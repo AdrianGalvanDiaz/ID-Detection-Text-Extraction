{
 "cells": [
  {
   "cell_type": "code",
   "execution_count": 1,
   "id": "b8ba584f",
   "metadata": {},
   "outputs": [],
   "source": [
    "from faker import Faker\n",
    "from PIL import Image, ImageDraw, ImageFont\n",
    "import random\n",
    "import os\n",
    "import csv\n",
    "import json\n",
    "import shutil\n",
    "from tqdm import tqdm\n",
    "\n",
    "# Configuración inicial\n",
    "random.seed(42)  # Para reproducibilidad\n",
    "fake = Faker('es_MX')"
   ]
  },
  {
   "cell_type": "code",
   "execution_count": 2,
   "id": "436c592f",
   "metadata": {},
   "outputs": [],
   "source": [
    "# Configuración de carpetas\n",
    "BASE_DIR = r\"C:\\Users\\Adrian\\Desktop\\INEs Dataset\"  # Directorio base\n",
    "DATA_DIR = os.path.join(BASE_DIR, \"data\")  # Carpeta para guardar todas las imágenes\n",
    "SETS_DIR = os.path.join(BASE_DIR, \"sets\")  # Carpeta para los conjuntos\n",
    "TRAIN_DIR = os.path.join(SETS_DIR, \"train\")  # Carpeta de entrenamiento\n",
    "VAL_DIR = os.path.join(SETS_DIR, \"validation\")     # Carpeta de validación\n",
    "TEST_DIR = os.path.join(SETS_DIR, \"test\")    # Carpeta de prueba"
   ]
  },
  {
   "cell_type": "code",
   "execution_count": 3,
   "id": "c5ac5804",
   "metadata": {},
   "outputs": [],
   "source": [
    "# Crear estructura de carpetas\n",
    "def crear_estructura_carpetas():\n",
    "    \"\"\"\n",
    "    Crea la estructura de carpetas necesaria para el proyecto.\n",
    "    \"\"\"\n",
    "    os.makedirs(DATA_DIR, exist_ok=True)\n",
    "    os.makedirs(TRAIN_DIR, exist_ok=True)\n",
    "    os.makedirs(VAL_DIR, exist_ok=True)\n",
    "    os.makedirs(TEST_DIR, exist_ok=True)\n",
    "    print(\"Estructura de carpetas creada correctamente.\")"
   ]
  },
  {
   "cell_type": "code",
   "execution_count": 4,
   "id": "3298ef1c",
   "metadata": {},
   "outputs": [],
   "source": [
    "# Función para eliminar acentos\n",
    "def eliminar_acentos(texto):\n",
    "    \"\"\"\n",
    "    Elimina los acentos y caracteres especiales de un texto.\n",
    "    \n",
    "    Args:\n",
    "        texto (str): Texto con posibles acentos.\n",
    "        \n",
    "    Returns:\n",
    "        str: Texto sin acentos.\n",
    "    \"\"\"\n",
    "    reemplazos = {\n",
    "        'Á': 'A', 'É': 'E', 'Í': 'I', 'Ó': 'O', 'Ú': 'U',\n",
    "        'á': 'a', 'é': 'e', 'í': 'i', 'ó': 'o', 'ú': 'u',\n",
    "        'Ü': 'U', 'ü': 'u', 'Ñ': 'N', 'ñ': 'n'\n",
    "    }\n",
    "    for acento, sin_acento in reemplazos.items():\n",
    "        texto = texto.replace(acento, sin_acento)\n",
    "    return texto"
   ]
  },
  {
   "cell_type": "code",
   "execution_count": 5,
   "id": "9432763f",
   "metadata": {},
   "outputs": [],
   "source": [
    "# Función para generar un CURP válido en formato\n",
    "def generar_curp():\n",
    "    \"\"\"\n",
    "    Genera un CURP aleatorio con formato válido.\n",
    "    \n",
    "    Returns:\n",
    "        str: Un CURP aleatorio.\n",
    "    \"\"\"\n",
    "    letras = \"ABCDEFGHIJKLMNOPQRSTUVWXYZ\"\n",
    "    numeros = \"0123456789\"\n",
    "    \n",
    "    # Formato básico de CURP mexicano (simplificado)\n",
    "    curp = \"\"\n",
    "    curp += ''.join(random.choices(letras, k=4))  # Primeras 4 letras (apellidos y nombre)\n",
    "    curp += ''.join(random.choices(numeros, k=6))  # Fecha (AAMMDD)\n",
    "    curp += random.choice(\"HM\")  # Sexo\n",
    "    curp += ''.join(random.choices(letras, k=2))  # Estado\n",
    "    curp += ''.join(random.choices(letras, k=3))  # Consonantes internas\n",
    "    curp += random.choice(numeros + letras)  # Homoclave\n",
    "    curp += ''.join(random.choices(numeros, k=1))  # Dígito verificador\n",
    "    \n",
    "    return curp"
   ]
  },
  {
   "cell_type": "code",
   "execution_count": 6,
   "id": "3360d432",
   "metadata": {},
   "outputs": [],
   "source": [
    "# Función para generar un número de elector válido\n",
    "def generar_clave_elector():\n",
    "    \"\"\"\n",
    "    Genera una clave de elector aleatoria con formato válido.\n",
    "    \n",
    "    Returns:\n",
    "        str: Una clave de elector aleatoria.\n",
    "    \"\"\"\n",
    "    letras = \"ABCDEFGHIJKLMNOPQRSTUVWXYZ\"\n",
    "    numeros = \"0123456789\"\n",
    "    \n",
    "    # Formato típico de clave de elector\n",
    "    clave = \"\"\n",
    "    clave += ''.join(random.choices(letras, k=6))  # Primeras letras (apellidos y nombre)\n",
    "    clave += ''.join(random.choices(numeros, k=8))  # Fecha y código\n",
    "    clave += ''.join(random.choices(letras + numeros, k=4))  # Homoclave\n",
    "    \n",
    "    return clave"
   ]
  },
  {
   "cell_type": "code",
   "execution_count": 7,
   "id": "16633f8b",
   "metadata": {},
   "outputs": [],
   "source": [
    "# Función para generar abreviación de estado\n",
    "def abreviar_estado(estado):\n",
    "    \"\"\"\n",
    "    Convierte el nombre de un estado mexicano a su abreviatura.\n",
    "    \n",
    "    Args:\n",
    "        estado (str): Nombre completo del estado.\n",
    "        \n",
    "    Returns:\n",
    "        str: Abreviatura del estado.\n",
    "    \"\"\"\n",
    "    # Abreviaturas de estados mexicanos\n",
    "    abreviaturas = {\n",
    "        \"AGUASCALIENTES\": \"AGS\",\n",
    "        \"BAJA CALIFORNIA\": \"BC\",\n",
    "        \"BAJA CALIFORNIA SUR\": \"BCS\",\n",
    "        \"CAMPECHE\": \"CAMP\",\n",
    "        \"CHIAPAS\": \"CHIS\",\n",
    "        \"CHIHUAHUA\": \"CHIH\",\n",
    "        \"COAHUILA\": \"COAH\",\n",
    "        \"COLIMA\": \"COL\",\n",
    "        \"DISTRITO FEDERAL\": \"CDMX\",\n",
    "        \"CIUDAD DE MEXICO\": \"CDMX\",\n",
    "        \"DURANGO\": \"DGO\",\n",
    "        \"GUANAJUATO\": \"GTO\",\n",
    "        \"GUERRERO\": \"GRO\",\n",
    "        \"HIDALGO\": \"HGO\",\n",
    "        \"JALISCO\": \"JAL\",\n",
    "        \"MEXICO\": \"MEX\",\n",
    "        \"ESTADO DE MEXICO\": \"MEX\",\n",
    "        \"MICHOACAN\": \"MICH\",\n",
    "        \"MORELOS\": \"MOR\",\n",
    "        \"NAYARIT\": \"NAY\",\n",
    "        \"NUEVO LEON\": \"NL\",\n",
    "        \"OAXACA\": \"OAX\",\n",
    "        \"PUEBLA\": \"PUE\",\n",
    "        \"QUERETARO\": \"QRO\",\n",
    "        \"QUINTANA ROO\": \"Q.ROO\",\n",
    "        \"SAN LUIS POTOSI\": \"SLP\",\n",
    "        \"SINALOA\": \"SIN\",\n",
    "        \"SONORA\": \"SON\",\n",
    "        \"TABASCO\": \"TAB\",\n",
    "        \"TAMAULIPAS\": \"TAMPS\",\n",
    "        \"TLAXCALA\": \"TLAX\",\n",
    "        \"VERACRUZ\": \"VER\",\n",
    "        \"YUCATAN\": \"YUC\",\n",
    "        \"ZACATECAS\": \"ZAC\"\n",
    "    }\n",
    "    \n",
    "    # Si el estado está en la lista, usar su abreviatura, de lo contrario abreviar las primeras 3 letras\n",
    "    estado_limpio = eliminar_acentos(estado.upper())\n",
    "    if estado_limpio in abreviaturas:\n",
    "        return abreviaturas[estado_limpio]\n",
    "    else:\n",
    "        return estado_limpio[:3]"
   ]
  },
  {
   "cell_type": "code",
   "execution_count": 8,
   "id": "42c9223c",
   "metadata": {},
   "outputs": [],
   "source": [
    "def generar_direccion_completa():\n",
    "    \"\"\"\n",
    "    Genera una dirección completa aleatoria.\n",
    "    \n",
    "    Returns:\n",
    "        dict: Diccionario con los componentes de la dirección.\n",
    "    \"\"\"\n",
    "    # Generar calle sin acentos\n",
    "    calle = eliminar_acentos(fake.street_name().upper())\n",
    "    \n",
    "    # Generar número exterior con variedad de formatos\n",
    "    formatos_ext = [\n",
    "        str(random.randint(1, 9999)),  # Número simple: 123\n",
    "        str(random.randint(1, 9999)) + \"-\" + str(random.randint(1, 99)),  # Con guión: 123-45\n",
    "        str(random.randint(1, 9999)) + random.choice(\"ABCDEFGHIJ\"),  # Con letra: 123A\n",
    "        \"S/N\",  # Sin número\n",
    "        \"MZ \" + str(random.randint(1, 99)) + \" LT \" + str(random.randint(1, 99)),  # Formato manzana-lote\n",
    "        \"KM \" + str(random.randint(1, 100)) + \".\" + str(random.randint(0, 9))  # Kilómetro carretera\n",
    "    ]\n",
    "    num_ext = random.choice(formatos_ext)\n",
    "    \n",
    "    # Decidir si tiene número interior (30% de probabilidad)\n",
    "    tiene_interior = random.random() < 0.3\n",
    "    \n",
    "    # Generar número interior con variedad\n",
    "    num_int = \"\"\n",
    "    if tiene_interior:\n",
    "        formatos_int = [\n",
    "            \"INT \" + str(random.randint(1, 999)),  # INT 123\n",
    "            \"DEPTO \" + str(random.randint(1, 999)),  # DEPTO 123\n",
    "            \"DEPTO \" + random.choice(\"ABCDEFGHIJ\"),  # DEPTO A\n",
    "            random.choice(\"ABCDEFGHIJ\"),  # Sólo letra: A\n",
    "            \"PISO \" + str(random.randint(1, 20)),  # PISO 3\n",
    "            \"EDIFICIO \" + str(random.randint(1, 20)) + \" DEPTO \" + str(random.randint(1, 99))  # EDIFICIO 3 DEPTO 12\n",
    "        ]\n",
    "        num_int = random.choice(formatos_int)\n",
    "    \n",
    "    # Generar el resto de componentes\n",
    "    colonia = eliminar_acentos(fake.city_suffix().upper() + \" \" + fake.city_prefix().upper())\n",
    "    cp = str(random.randint(10000, 99999))  # Códigos postales en México son de 5 dígitos\n",
    "    municipio = eliminar_acentos(fake.city().upper())\n",
    "    estado = eliminar_acentos(fake.state().upper())\n",
    "    estado_abreviado = abreviar_estado(estado)\n",
    "    \n",
    "    # Formatear la dirección completa\n",
    "    direccion_linea1 = f\"{calle} {num_ext}\"\n",
    "    if tiene_interior:\n",
    "        direccion_linea1 += f\", {num_int}\"\n",
    "        \n",
    "    direccion_linea2 = f\"{colonia} {cp}\"\n",
    "    direccion_linea3 = f\"{municipio}, {estado_abreviado}\"\n",
    "    \n",
    "    # Retornar componentes individuales y líneas formateadas\n",
    "    return {\n",
    "        \"direccion1\": direccion_linea1,\n",
    "        \"direccion2\": direccion_linea2,\n",
    "        \"direccion3\": direccion_linea3,\n",
    "        \"calle\": calle,\n",
    "        \"num_ext\": num_ext,\n",
    "        \"num_int\": num_int,\n",
    "        \"colonia\": colonia,\n",
    "        \"cp\": cp,\n",
    "        \"municipio\": municipio,\n",
    "        \"estado\": estado_abreviado\n",
    "    }"
   ]
  },
  {
   "cell_type": "code",
   "execution_count": 9,
   "id": "5653b1b9",
   "metadata": {},
   "outputs": [],
   "source": [
    "# Función para generar datos de persona falsos\n",
    "def generar_datos_persona():\n",
    "    \"\"\"\n",
    "    Genera datos ficticios completos para una persona.\n",
    "    \n",
    "    Returns:\n",
    "        dict: Diccionario con todos los datos de la persona.\n",
    "    \"\"\"\n",
    "    # Generar nombre y apellidos separados\n",
    "    nombre = eliminar_acentos(fake.first_name().upper())\n",
    "    apellido1 = eliminar_acentos(fake.last_name().upper())\n",
    "    apellido2 = eliminar_acentos(fake.last_name().upper())\n",
    "    \n",
    "    # Separar nombre en primer y segundo nombre (si existe)\n",
    "    partes_nombre = nombre.split()\n",
    "    primer_nombre = partes_nombre[0] if partes_nombre else \"\"\n",
    "    segundo_nombre = \" \".join(partes_nombre[1:]) if len(partes_nombre) > 1 else \"\"\n",
    "    \n",
    "    # Determinar género y edad\n",
    "    genero = random.choice([\"H\", \"M\"])\n",
    "    fecha_nac = fake.date_of_birth(minimum_age=18, maximum_age=90)\n",
    "\n",
    "    # Usar la función para generar dirección\n",
    "    direccion = generar_direccion_completa()\n",
    "    \n",
    "    seccion = str(random.randint(1, 9999)).zfill(4)\n",
    "    \n",
    "    # Vigencia como rango de años\n",
    "    año_inicio = random.randint(2020, 2030)\n",
    "    año_fin = año_inicio + 10\n",
    "    vigencia = f\"{año_inicio}-{año_fin}\"\n",
    "    \n",
    "    # Año de registro con dos dígitos adicionales (mes)\n",
    "    anio_registro = str(random.randint(2000, 2023))\n",
    "    mes_registro = str(random.randint(1, 12)).zfill(2)  # Asegura que tenga 2 dígitos\n",
    "    registro = f\"{anio_registro} {mes_registro}\"\n",
    "    \n",
    "    # Fecha de nacimiento en formato DD/MM/YYYY\n",
    "    fecha_nacimiento = fecha_nac.strftime('%d/%m/%Y')\n",
    "    \n",
    "    # CURP y clave de elector\n",
    "    curp = generar_curp().upper()\n",
    "    clave_elector = generar_clave_elector().upper()\n",
    "    \n",
    "    return {\n",
    "        \"nombre\": primer_nombre,\n",
    "        \"segundo_nombre\": segundo_nombre,\n",
    "        \"apellido_paterno\": apellido1,\n",
    "        \"apellido_materno\": apellido2,\n",
    "        \"clave_elector\": clave_elector,\n",
    "        \"curp\": curp,\n",
    "        \"fecha_nacimiento\": fecha_nacimiento,\n",
    "        \"sexo\": genero,\n",
    "        \"seccion\": seccion,\n",
    "        \"vigencia_inicio\": str(año_inicio),\n",
    "        \"vigencia_fin\": str(año_fin),\n",
    "        \"ano_registro\": anio_registro,\n",
    "        \"mes_registro\": mes_registro,\n",
    "        \"direccion1\": direccion[\"direccion1\"],\n",
    "        \"direccion2\": direccion[\"direccion2\"],\n",
    "        \"direccion3\": direccion[\"direccion3\"],\n",
    "        \"calle\": direccion[\"calle\"],\n",
    "        \"numero_ext\": direccion[\"num_ext\"],\n",
    "        \"numero_int\": direccion[\"num_int\"],\n",
    "        \"colonia\": direccion[\"colonia\"],\n",
    "        \"codigo_postal\": direccion[\"cp\"],\n",
    "        \"municipio\": direccion[\"municipio\"],\n",
    "        \"estado\": direccion[\"estado\"]\n",
    "    }"
   ]
  },
  {
   "cell_type": "code",
   "execution_count": 10,
   "id": "d975aa97",
   "metadata": {},
   "outputs": [],
   "source": [
    "# Cargar plantilla de INE y generar una falsa\n",
    "def generar_ine_falsa(persona, ruta_destino):\n",
    "    \"\"\"\n",
    "    Genera una imagen falsa de INE con los datos proporcionados.\n",
    "    \n",
    "    Args:\n",
    "        persona (dict): Diccionario con los datos de la persona.\n",
    "        ruta_destino (str): Ruta completa donde se guardará la imagen.\n",
    "        \n",
    "    Returns:\n",
    "        bool: True si la imagen se generó correctamente, False en caso contrario.\n",
    "    \"\"\"\n",
    "    try:\n",
    "        # Cargar imagen de plantilla\n",
    "        imagen = Image.open(\"plantilla_ine.png\")\n",
    "        \n",
    "        # Convertir a RGB si está en modo RGBA\n",
    "        if imagen.mode == 'RGBA':\n",
    "            imagen = imagen.convert('RGB')\n",
    "            \n",
    "        draw = ImageDraw.Draw(imagen)\n",
    "        \n",
    "        # Configurar fuentes\n",
    "        try:\n",
    "            # Todas en negrita si es posible\n",
    "            fuente_etiqueta = ImageFont.truetype(\"arial.ttf\", size=12)  # Para etiquetas\n",
    "            fuente_dato = ImageFont.truetype(\"arial.ttf\", size=14)     # Para los datos\n",
    "            fuente_grande = ImageFont.truetype(\"arial.ttf\", size=16)   # Para nombre\n",
    "        except IOError:\n",
    "            fuente_etiqueta = ImageFont.load_default()\n",
    "            fuente_dato = ImageFont.load_default()\n",
    "            fuente_grande = ImageFont.load_default()\n",
    "        \n",
    "        # Ajustar posiciones para dejar espacio para la foto (mover todo a la derecha)\n",
    "        offset_x = 270  # Aumentado para dejar más espacio para la foto\n",
    "        offset_y = 170\n",
    "        \n",
    "        # NOMBRE\n",
    "        draw.text((offset_x, offset_y), \"NOMBRE\", font=fuente_etiqueta, fill=\"black\")\n",
    "        nombre_completo = f\"{persona['apellido_paterno']} {persona['apellido_materno']} {persona['nombre']}\"\n",
    "        if persona['segundo_nombre']:\n",
    "            nombre_completo += f\" {persona['segundo_nombre']}\"\n",
    "        draw.text((offset_x, offset_y + 15), persona[\"apellido_paterno\"], font=fuente_grande, fill=\"black\")\n",
    "        draw.text((offset_x, offset_y + 32), persona[\"apellido_materno\"], font=fuente_grande, fill=\"black\")\n",
    "        draw.text((offset_x, offset_y + 49), persona[\"nombre\"], font=fuente_grande, fill=\"black\")\n",
    "        \n",
    "        # SEXO - reposicionado para no encimarse\n",
    "        draw.text((660, offset_y), \"SEXO\", font=fuente_etiqueta, fill=\"black\")\n",
    "        draw.text((696, offset_y - 1.5), persona[\"sexo\"], font=fuente_dato, fill=\"black\")\n",
    "        \n",
    "        # DOMICILIO - subido\n",
    "        draw.text((offset_x, offset_y + 90), \"DOMICILIO\", font=fuente_etiqueta, fill=\"black\")\n",
    "        draw.text((offset_x, offset_y + 105), persona[\"direccion1\"], font=fuente_grande, fill=\"black\")\n",
    "        draw.text((offset_x, offset_y + 122), persona[\"direccion2\"], font=fuente_grande, fill=\"black\")\n",
    "        draw.text((offset_x, offset_y + 139), persona[\"direccion3\"], font=fuente_grande, fill=\"black\")\n",
    "        \n",
    "        # CLAVE DE ELECTOR (en la misma línea)\n",
    "        draw.text((offset_x, offset_y + 180), \"CLAVE DE ELECTOR\", font=fuente_etiqueta, fill=\"black\")\n",
    "        draw.text((offset_x + 130, offset_y + 176), persona[\"clave_elector\"], font=fuente_grande, fill=\"black\")\n",
    "        \n",
    "        # AÑO DE REGISTRO (en la misma línea que CLAVE DE ELECTOR)\n",
    "        draw.text((offset_x + 240, offset_y + 197), \"AÑO DE REGISTRO\", font=fuente_etiqueta, fill=\"black\")\n",
    "        registro = f\"{persona['ano_registro']} {persona['mes_registro']}\"\n",
    "        draw.text((offset_x + 240, offset_y + 210), registro, font=fuente_grande, fill=\"black\")\n",
    "        \n",
    "        # CURP (en la misma línea)\n",
    "        draw.text((offset_x, offset_y + 197), \"CURP\", font=fuente_etiqueta, fill=\"black\")\n",
    "        draw.text((offset_x, offset_y + 210), persona[\"curp\"], font=fuente_grande, fill=\"black\")\n",
    "        \n",
    "        # FECHA DE NACIMIENTO (en la misma línea)\n",
    "        draw.text((offset_x, offset_y + 229), \"FECHA DE NACIMIENTO\", font=fuente_etiqueta, fill=\"black\")\n",
    "        draw.text((offset_x, offset_y + 242), persona[\"fecha_nacimiento\"], font=fuente_grande, fill=\"black\")\n",
    "        \n",
    "        # SECCIÓN (en la misma línea)\n",
    "        draw.text((offset_x + 160, offset_y + 229), \"SECCIÓN\", font=fuente_etiqueta, fill=\"black\")\n",
    "        draw.text((offset_x + 160, offset_y + 242), persona[\"seccion\"], font=fuente_grande, fill=\"black\")\n",
    "        \n",
    "        # VIGENCIA (en la misma línea)\n",
    "        draw.text((offset_x + 240, offset_y + 229), \"VIGENCIA\", font=fuente_etiqueta, fill=\"black\")\n",
    "        vigencia = f\"{persona['vigencia_inicio']}-{persona['vigencia_fin']}\"\n",
    "        draw.text((offset_x + 240, offset_y + 242), vigencia, font=fuente_grande, fill=\"black\")\n",
    "        \n",
    "        # Guardar la imagen\n",
    "        imagen.save(ruta_destino)\n",
    "        print(f\"INE falsa generada: {ruta_destino}\")\n",
    "        return True\n",
    "    except Exception as e:\n",
    "        print(f\"Error al generar INE falsa: {e}\")\n",
    "        return False"
   ]
  },
  {
   "cell_type": "code",
   "execution_count": 11,
   "id": "22a3a6be",
   "metadata": {},
   "outputs": [],
   "source": [
    "def guardar_metadata_jsonl(datos, ruta_archivo):\n",
    "    \"\"\"\n",
    "    Guarda los datos en formato JSONL con el formato específico requerido.\n",
    "    \n",
    "    Args:\n",
    "        datos (list): Lista de diccionarios con los datos a guardar.\n",
    "        ruta_archivo (str): Ruta donde se guardará el archivo metadata.jsonl.\n",
    "    \"\"\"\n",
    "    with open(ruta_archivo, 'w', encoding='utf-8') as archivo:\n",
    "        for item in datos:\n",
    "            # Crear el formato específico requerido\n",
    "            gt_parse = {\"gt_parse\": item[\"datos\"]}\n",
    "            linea = {\n",
    "                \"file_name\": item[\"archivo_imagen\"],\n",
    "                \"ground_truth\": json.dumps(gt_parse)\n",
    "            }\n",
    "            archivo.write(json.dumps(linea) + \"\\n\")\n",
    "    \n",
    "    print(f\"Archivo metadata.jsonl guardado en: {ruta_archivo}\")"
   ]
  },
  {
   "cell_type": "code",
   "execution_count": 12,
   "id": "51cbf294",
   "metadata": {},
   "outputs": [],
   "source": [
    "def exportar_datos_a_csv(personas, ruta_csv):\n",
    "    \"\"\"\n",
    "    Exporta los datos de las personas a un archivo CSV.\n",
    "    \n",
    "    Args:\n",
    "        personas (list): Lista de diccionarios con los datos de las personas.\n",
    "        ruta_csv (str): Ruta donde se guardará el archivo CSV.\n",
    "    \"\"\"\n",
    "    # Definir los encabezados del CSV según la estructura de los datos\n",
    "    encabezados = [\n",
    "        'Archivo_Imagen', 'Nombre', 'Segundo Nombre', 'Apellido Paterno', 'Apellido Materno',\n",
    "        'Estado', 'Municipio', 'Colonia', 'Calle', 'Numero Ext.', 'Numero Int.',\n",
    "        'Codigo Postal', 'CURP', 'Clave Elector', 'Fecha de Nacimiento',\n",
    "        'Seccion', 'Vigencia Ano Inicio', 'Vigencia Ano Final', 'Ano Registro', 'Mes Registro'\n",
    "    ]\n",
    "    \n",
    "    try:\n",
    "        with open(ruta_csv, 'w', newline='', encoding='utf-8') as archivo_csv:\n",
    "            writer = csv.DictWriter(archivo_csv, fieldnames=encabezados)\n",
    "            writer.writeheader()\n",
    "            \n",
    "            for persona in personas:\n",
    "                # Crear fila para CSV\n",
    "                fila = {\n",
    "                    'Archivo_Imagen': persona[\"archivo_imagen\"],\n",
    "                    'Nombre': persona[\"datos\"][\"nombre\"],\n",
    "                    'Segundo Nombre': persona[\"datos\"][\"segundo_nombre\"],\n",
    "                    'Apellido Paterno': persona[\"datos\"][\"apellido_paterno\"],\n",
    "                    'Apellido Materno': persona[\"datos\"][\"apellido_materno\"],\n",
    "                    'Estado': persona[\"datos\"][\"estado\"],\n",
    "                    'Municipio': persona[\"datos\"][\"municipio\"],\n",
    "                    'Colonia': persona[\"datos\"][\"colonia\"],\n",
    "                    'Calle': persona[\"datos\"][\"calle\"],\n",
    "                    'Numero Ext.': persona[\"datos\"][\"numero_ext\"],\n",
    "                    'Numero Int.': persona[\"datos\"][\"numero_int\"],\n",
    "                    'Codigo Postal': persona[\"datos\"][\"codigo_postal\"],\n",
    "                    'CURP': persona[\"datos\"][\"curp\"],\n",
    "                    'Clave Elector': persona[\"datos\"][\"clave_elector\"],\n",
    "                    'Fecha de Nacimiento': persona[\"datos\"][\"fecha_nacimiento\"],\n",
    "                    'Seccion': persona[\"datos\"][\"seccion\"],\n",
    "                    'Vigencia Ano Inicio': persona[\"datos\"][\"vigencia_inicio\"],\n",
    "                    'Vigencia Ano Final': persona[\"datos\"][\"vigencia_fin\"],\n",
    "                    'Ano Registro': persona[\"datos\"][\"ano_registro\"],\n",
    "                    'Mes Registro': persona[\"datos\"][\"mes_registro\"]\n",
    "                }\n",
    "                writer.writerow(fila)\n",
    "                \n",
    "        print(f\"Archivo CSV generado exitosamente en: {ruta_csv}\")\n",
    "        return True\n",
    "    except Exception as e:\n",
    "        print(f\"Error al generar el archivo CSV: {e}\")\n",
    "        return False"
   ]
  },
  {
   "cell_type": "code",
   "execution_count": 13,
   "id": "4f6f82fc",
   "metadata": {},
   "outputs": [],
   "source": [
    "def generar_dataset(cantidad, prop_train=0.7, prop_val=0.2, prop_test=0.1):\n",
    "    \"\"\"\n",
    "    Genera un dataset completo con imágenes y metadatos, dividiéndolo en conjuntos\n",
    "    de entrenamiento, validación y prueba.\n",
    "    \n",
    "    Args:\n",
    "        cantidad (int): Número total de imágenes a generar.\n",
    "        prop_train (float): Proporción para entrenamiento (0.0-1.0).\n",
    "        prop_val (float): Proporción para validación (0.0-1.0).\n",
    "        prop_test (float): Proporción para prueba (0.0-1.0).\n",
    "    \n",
    "    Returns:\n",
    "        tuple: Conteos de imágenes en cada conjunto (train, val, test).\n",
    "    \"\"\"\n",
    "    # Verificar que las proporciones sumen 1.0\n",
    "    if abs((prop_train + prop_val + prop_test) - 1.0) > 0.001:\n",
    "        raise ValueError(f\"Las proporciones deben sumar 1.0, pero suman {prop_train + prop_val + prop_test}\")\n",
    "    \n",
    "    # Crear la estructura de carpetas\n",
    "    crear_estructura_carpetas()\n",
    "    \n",
    "    # Calcular la cantidad de imágenes para cada conjunto\n",
    "    n_train = int(cantidad * prop_train)\n",
    "    n_val = int(cantidad * prop_val)\n",
    "    n_test = cantidad - n_train - n_val  # Para asegurar que sumen exactamente 'cantidad'\n",
    "    \n",
    "    print(f\"Se generarán:\")\n",
    "    print(f\"- {n_train} imágenes para entrenamiento\")\n",
    "    print(f\"- {n_val} imágenes para validación\")\n",
    "    print(f\"- {n_test} imágenes para prueba\")\n",
    "    \n",
    "    # Listas para almacenar los datos de cada conjunto\n",
    "    personas_train = []\n",
    "    personas_val = []\n",
    "    personas_test = []\n",
    "    todas_personas = []  # Para el CSV general\n",
    "    \n",
    "    # Generar las imágenes y distribuirlas en conjuntos\n",
    "    for i in tqdm(range(cantidad), desc=\"Generando dataset\"):\n",
    "        # Generar nombre de archivo\n",
    "        nombre_archivo = f\"ine_falsa_{i+1:03d}.jpg\"\n",
    "        \n",
    "        # Generar datos de persona\n",
    "        datos_persona = generar_datos_persona()\n",
    "        \n",
    "        # Crear objeto con datos e imagen correspondiente\n",
    "        persona = {\n",
    "            \"archivo_imagen\": nombre_archivo,\n",
    "            \"datos\": datos_persona\n",
    "        }\n",
    "        \n",
    "        todas_personas.append(persona)  # Agregar a la lista general\n",
    "        \n",
    "        # Determinar a qué conjunto pertenece esta imagen\n",
    "        if i < n_train:\n",
    "            # Conjunto de entrenamiento\n",
    "            ruta_destino = os.path.join(TRAIN_DIR, nombre_archivo)\n",
    "            personas_train.append(persona)\n",
    "            conjunto = \"entrenamiento\"\n",
    "        elif i < n_train + n_val:\n",
    "            # Conjunto de validación\n",
    "            ruta_destino = os.path.join(VAL_DIR, nombre_archivo)\n",
    "            personas_val.append(persona)\n",
    "            conjunto = \"validación\"\n",
    "        else:\n",
    "            # Conjunto de prueba\n",
    "            ruta_destino = os.path.join(TEST_DIR, nombre_archivo)\n",
    "            personas_test.append(persona)\n",
    "            conjunto = \"prueba\"\n",
    "        \n",
    "        # Generar la imagen en la carpeta correspondiente\n",
    "        if generar_ine_falsa(datos_persona, ruta_destino):\n",
    "            # También guardar una copia en DATA_DIR\n",
    "            ruta_data = os.path.join(DATA_DIR, nombre_archivo)\n",
    "            shutil.copy2(ruta_destino, ruta_data)\n",
    "        else:\n",
    "            print(f\"Error al generar imagen para conjunto de {conjunto}: {nombre_archivo}\")\n",
    "    \n",
    "    # Generar los archivos metadata.jsonl para cada conjunto\n",
    "    guardar_metadata_jsonl(personas_train, os.path.join(TRAIN_DIR, \"metadata.jsonl\"))\n",
    "    guardar_metadata_jsonl(personas_val, os.path.join(VAL_DIR, \"metadata.jsonl\"))\n",
    "    guardar_metadata_jsonl(personas_test, os.path.join(TEST_DIR, \"metadata.jsonl\"))\n",
    "    \n",
    "    # Generar el CSV con todos los datos\n",
    "    ruta_csv = os.path.join(BASE_DIR, \"datos_ines.csv\")\n",
    "    exportar_datos_a_csv(todas_personas, ruta_csv)\n",
    "    \n",
    "    print(f\"\\nDataset generado con éxito:\")\n",
    "    print(f\"- {len(personas_train)} imágenes en conjunto de entrenamiento\")\n",
    "    print(f\"- {len(personas_val)} imágenes en conjunto de validación\")\n",
    "    print(f\"- {len(personas_test)} imágenes en conjunto de prueba\")\n",
    "    print(f\"- Total: {len(todas_personas)} imágenes\")\n",
    "    print(f\"\\nArchivo CSV guardado en: {ruta_csv}\")\n",
    "    print(f\"Todos los archivos metadata.jsonl han sido generados en sus respectivas carpetas\")\n",
    "    \n",
    "    return len(personas_train), len(personas_val), len(personas_test)"
   ]
  },
  {
   "cell_type": "code",
   "execution_count": 14,
   "id": "e2861952",
   "metadata": {},
   "outputs": [
    {
     "name": "stdout",
     "output_type": "stream",
     "text": [
      "Estructura de carpetas creada correctamente.\n",
      "Se generarán:\n",
      "- 210 imágenes para entrenamiento\n",
      "- 60 imágenes para validación\n",
      "- 30 imágenes para prueba\n"
     ]
    },
    {
     "name": "stderr",
     "output_type": "stream",
     "text": [
      "Generando dataset:   0%|          | 1/300 [00:00<00:29,  9.99it/s]"
     ]
    },
    {
     "name": "stdout",
     "output_type": "stream",
     "text": [
      "INE falsa generada: C:\\Users\\Adrian\\Desktop\\INEs Dataset\\sets\\train\\ine_falsa_001.jpg\n",
      "INE falsa generada: C:\\Users\\Adrian\\Desktop\\INEs Dataset\\sets\\train\\ine_falsa_002.jpg\n",
      "INE falsa generada: C:\\Users\\Adrian\\Desktop\\INEs Dataset\\sets\\train\\ine_falsa_003.jpg\n"
     ]
    },
    {
     "name": "stderr",
     "output_type": "stream",
     "text": [
      "Generando dataset:   1%|▏         | 4/300 [00:00<00:16, 17.76it/s]"
     ]
    },
    {
     "name": "stdout",
     "output_type": "stream",
     "text": [
      "INE falsa generada: C:\\Users\\Adrian\\Desktop\\INEs Dataset\\sets\\train\\ine_falsa_004.jpg\n",
      "INE falsa generada: C:\\Users\\Adrian\\Desktop\\INEs Dataset\\sets\\train\\ine_falsa_005.jpg\n"
     ]
    },
    {
     "name": "stderr",
     "output_type": "stream",
     "text": [
      "Generando dataset:   2%|▏         | 7/300 [00:00<00:15, 19.28it/s]"
     ]
    },
    {
     "name": "stdout",
     "output_type": "stream",
     "text": [
      "INE falsa generada: C:\\Users\\Adrian\\Desktop\\INEs Dataset\\sets\\train\\ine_falsa_006.jpg\n",
      "INE falsa generada: C:\\Users\\Adrian\\Desktop\\INEs Dataset\\sets\\train\\ine_falsa_007.jpg\n",
      "INE falsa generada: C:\\Users\\Adrian\\Desktop\\INEs Dataset\\sets\\train\\ine_falsa_008.jpg\n"
     ]
    },
    {
     "name": "stderr",
     "output_type": "stream",
     "text": [
      "Generando dataset:   3%|▎         | 9/300 [00:00<00:15, 19.25it/s]"
     ]
    },
    {
     "name": "stdout",
     "output_type": "stream",
     "text": [
      "INE falsa generada: C:\\Users\\Adrian\\Desktop\\INEs Dataset\\sets\\train\\ine_falsa_009.jpg\n",
      "INE falsa generada: C:\\Users\\Adrian\\Desktop\\INEs Dataset\\sets\\train\\ine_falsa_010.jpg\n"
     ]
    },
    {
     "name": "stderr",
     "output_type": "stream",
     "text": [
      "Generando dataset:   4%|▎         | 11/300 [00:00<00:14, 19.42it/s]"
     ]
    },
    {
     "name": "stdout",
     "output_type": "stream",
     "text": [
      "INE falsa generada: C:\\Users\\Adrian\\Desktop\\INEs Dataset\\sets\\train\\ine_falsa_011.jpg\n",
      "INE falsa generada: C:\\Users\\Adrian\\Desktop\\INEs Dataset\\sets\\train\\ine_falsa_012.jpg\n",
      "INE falsa generada: C:\\Users\\Adrian\\Desktop\\INEs Dataset\\sets\\train\\ine_falsa_013.jpg\n"
     ]
    },
    {
     "name": "stderr",
     "output_type": "stream",
     "text": [
      "Generando dataset:   5%|▍         | 14/300 [00:00<00:13, 20.88it/s]"
     ]
    },
    {
     "name": "stdout",
     "output_type": "stream",
     "text": [
      "INE falsa generada: C:\\Users\\Adrian\\Desktop\\INEs Dataset\\sets\\train\\ine_falsa_014.jpg\n",
      "INE falsa generada: C:\\Users\\Adrian\\Desktop\\INEs Dataset\\sets\\train\\ine_falsa_015.jpg\n"
     ]
    },
    {
     "name": "stderr",
     "output_type": "stream",
     "text": [
      "Generando dataset:   6%|▌         | 17/300 [00:00<00:13, 21.30it/s]"
     ]
    },
    {
     "name": "stdout",
     "output_type": "stream",
     "text": [
      "INE falsa generada: C:\\Users\\Adrian\\Desktop\\INEs Dataset\\sets\\train\\ine_falsa_016.jpg\n",
      "INE falsa generada: C:\\Users\\Adrian\\Desktop\\INEs Dataset\\sets\\train\\ine_falsa_017.jpg\n",
      "INE falsa generada: C:\\Users\\Adrian\\Desktop\\INEs Dataset\\sets\\train\\ine_falsa_018.jpg\n",
      "INE falsa generada: C:\\Users\\Adrian\\Desktop\\INEs Dataset\\sets\\train\\ine_falsa_019.jpg\n",
      "INE falsa generada: C:\\Users\\Adrian\\Desktop\\INEs Dataset\\sets\\train\\ine_falsa_020.jpg\n"
     ]
    },
    {
     "name": "stderr",
     "output_type": "stream",
     "text": [
      "Generando dataset:   7%|▋         | 20/300 [00:00<00:12, 21.98it/s]"
     ]
    },
    {
     "name": "stdout",
     "output_type": "stream",
     "text": [
      "INE falsa generada: C:\\Users\\Adrian\\Desktop\\INEs Dataset\\sets\\train\\ine_falsa_021.jpg\n",
      "INE falsa generada: C:\\Users\\Adrian\\Desktop\\INEs Dataset\\sets\\train\\ine_falsa_022.jpg\n",
      "INE falsa generada: C:\\Users\\Adrian\\Desktop\\INEs Dataset\\sets\\train\\ine_falsa_023.jpg\n"
     ]
    },
    {
     "name": "stderr",
     "output_type": "stream",
     "text": [
      "Generando dataset:   8%|▊         | 23/300 [00:01<00:13, 21.18it/s]"
     ]
    },
    {
     "name": "stdout",
     "output_type": "stream",
     "text": [
      "INE falsa generada: C:\\Users\\Adrian\\Desktop\\INEs Dataset\\sets\\train\\ine_falsa_024.jpg\n"
     ]
    },
    {
     "name": "stderr",
     "output_type": "stream",
     "text": [
      "Generando dataset:   9%|▊         | 26/300 [00:01<00:13, 20.46it/s]"
     ]
    },
    {
     "name": "stdout",
     "output_type": "stream",
     "text": [
      "INE falsa generada: C:\\Users\\Adrian\\Desktop\\INEs Dataset\\sets\\train\\ine_falsa_025.jpg\n",
      "INE falsa generada: C:\\Users\\Adrian\\Desktop\\INEs Dataset\\sets\\train\\ine_falsa_026.jpg\n",
      "INE falsa generada: C:\\Users\\Adrian\\Desktop\\INEs Dataset\\sets\\train\\ine_falsa_027.jpg\n",
      "INE falsa generada: C:\\Users\\Adrian\\Desktop\\INEs Dataset\\sets\\train\\ine_falsa_028.jpg\n",
      "INE falsa generada: C:\\Users\\Adrian\\Desktop\\INEs Dataset\\sets\\train\\ine_falsa_029.jpg\n"
     ]
    },
    {
     "name": "stderr",
     "output_type": "stream",
     "text": [
      "Generando dataset:  10%|▉         | 29/300 [00:01<00:13, 20.40it/s]"
     ]
    },
    {
     "name": "stdout",
     "output_type": "stream",
     "text": [
      "INE falsa generada: C:\\Users\\Adrian\\Desktop\\INEs Dataset\\sets\\train\\ine_falsa_030.jpg\n",
      "INE falsa generada: C:\\Users\\Adrian\\Desktop\\INEs Dataset\\sets\\train\\ine_falsa_031.jpg\n",
      "INE falsa generada: C:\\Users\\Adrian\\Desktop\\INEs Dataset\\sets\\train\\ine_falsa_032.jpg\n"
     ]
    },
    {
     "name": "stderr",
     "output_type": "stream",
     "text": [
      "Generando dataset:  11%|█         | 32/300 [00:01<00:12, 20.97it/s]"
     ]
    },
    {
     "name": "stdout",
     "output_type": "stream",
     "text": [
      "INE falsa generada: C:\\Users\\Adrian\\Desktop\\INEs Dataset\\sets\\train\\ine_falsa_033.jpg\n",
      "INE falsa generada: C:\\Users\\Adrian\\Desktop\\INEs Dataset\\sets\\train\\ine_falsa_034.jpg\n"
     ]
    },
    {
     "name": "stderr",
     "output_type": "stream",
     "text": [
      "Generando dataset:  12%|█▏        | 35/300 [00:01<00:12, 20.57it/s]"
     ]
    },
    {
     "name": "stdout",
     "output_type": "stream",
     "text": [
      "INE falsa generada: C:\\Users\\Adrian\\Desktop\\INEs Dataset\\sets\\train\\ine_falsa_035.jpg\n",
      "INE falsa generada: C:\\Users\\Adrian\\Desktop\\INEs Dataset\\sets\\train\\ine_falsa_036.jpg\n",
      "INE falsa generada: C:\\Users\\Adrian\\Desktop\\INEs Dataset\\sets\\train\\ine_falsa_037.jpg\n"
     ]
    },
    {
     "name": "stderr",
     "output_type": "stream",
     "text": [
      "Generando dataset:  13%|█▎        | 38/300 [00:01<00:12, 21.36it/s]"
     ]
    },
    {
     "name": "stdout",
     "output_type": "stream",
     "text": [
      "INE falsa generada: C:\\Users\\Adrian\\Desktop\\INEs Dataset\\sets\\train\\ine_falsa_038.jpg\n",
      "INE falsa generada: C:\\Users\\Adrian\\Desktop\\INEs Dataset\\sets\\train\\ine_falsa_039.jpg\n",
      "INE falsa generada: C:\\Users\\Adrian\\Desktop\\INEs Dataset\\sets\\train\\ine_falsa_040.jpg\n"
     ]
    },
    {
     "name": "stderr",
     "output_type": "stream",
     "text": [
      "Generando dataset:  14%|█▎        | 41/300 [00:01<00:11, 22.20it/s]"
     ]
    },
    {
     "name": "stdout",
     "output_type": "stream",
     "text": [
      "INE falsa generada: C:\\Users\\Adrian\\Desktop\\INEs Dataset\\sets\\train\\ine_falsa_041.jpg\n",
      "INE falsa generada: C:\\Users\\Adrian\\Desktop\\INEs Dataset\\sets\\train\\ine_falsa_042.jpg\n",
      "INE falsa generada: C:\\Users\\Adrian\\Desktop\\INEs Dataset\\sets\\train\\ine_falsa_043.jpg\n"
     ]
    },
    {
     "name": "stderr",
     "output_type": "stream",
     "text": [
      "Generando dataset:  15%|█▍        | 44/300 [00:02<00:11, 22.49it/s]"
     ]
    },
    {
     "name": "stdout",
     "output_type": "stream",
     "text": [
      "INE falsa generada: C:\\Users\\Adrian\\Desktop\\INEs Dataset\\sets\\train\\ine_falsa_044.jpg\n",
      "INE falsa generada: C:\\Users\\Adrian\\Desktop\\INEs Dataset\\sets\\train\\ine_falsa_045.jpg\n"
     ]
    },
    {
     "name": "stderr",
     "output_type": "stream",
     "text": [
      "Generando dataset:  16%|█▌        | 47/300 [00:02<00:11, 21.67it/s]"
     ]
    },
    {
     "name": "stdout",
     "output_type": "stream",
     "text": [
      "INE falsa generada: C:\\Users\\Adrian\\Desktop\\INEs Dataset\\sets\\train\\ine_falsa_046.jpg\n",
      "INE falsa generada: C:\\Users\\Adrian\\Desktop\\INEs Dataset\\sets\\train\\ine_falsa_047.jpg\n",
      "INE falsa generada: C:\\Users\\Adrian\\Desktop\\INEs Dataset\\sets\\train\\ine_falsa_048.jpg\n"
     ]
    },
    {
     "name": "stderr",
     "output_type": "stream",
     "text": [
      "Generando dataset:  17%|█▋        | 50/300 [00:02<00:11, 22.07it/s]"
     ]
    },
    {
     "name": "stdout",
     "output_type": "stream",
     "text": [
      "INE falsa generada: C:\\Users\\Adrian\\Desktop\\INEs Dataset\\sets\\train\\ine_falsa_049.jpg\n",
      "INE falsa generada: C:\\Users\\Adrian\\Desktop\\INEs Dataset\\sets\\train\\ine_falsa_050.jpg\n",
      "INE falsa generada: C:\\Users\\Adrian\\Desktop\\INEs Dataset\\sets\\train\\ine_falsa_051.jpg\n",
      "INE falsa generada: C:\\Users\\Adrian\\Desktop\\INEs Dataset\\sets\\train\\ine_falsa_052.jpg\n",
      "INE falsa generada: C:\\Users\\Adrian\\Desktop\\INEs Dataset\\sets\\train\\ine_falsa_053.jpg\n"
     ]
    },
    {
     "name": "stderr",
     "output_type": "stream",
     "text": [
      "Generando dataset:  18%|█▊        | 53/300 [00:02<00:11, 22.41it/s]"
     ]
    },
    {
     "name": "stdout",
     "output_type": "stream",
     "text": [
      "INE falsa generada: C:\\Users\\Adrian\\Desktop\\INEs Dataset\\sets\\train\\ine_falsa_054.jpg\n",
      "INE falsa generada: C:\\Users\\Adrian\\Desktop\\INEs Dataset\\sets\\train\\ine_falsa_055.jpg\n"
     ]
    },
    {
     "name": "stderr",
     "output_type": "stream",
     "text": [
      "Generando dataset:  19%|█▊        | 56/300 [00:02<00:10, 22.45it/s]"
     ]
    },
    {
     "name": "stdout",
     "output_type": "stream",
     "text": [
      "INE falsa generada: C:\\Users\\Adrian\\Desktop\\INEs Dataset\\sets\\train\\ine_falsa_056.jpg\n",
      "INE falsa generada: C:\\Users\\Adrian\\Desktop\\INEs Dataset\\sets\\train\\ine_falsa_057.jpg\n",
      "INE falsa generada: C:\\Users\\Adrian\\Desktop\\INEs Dataset\\sets\\train\\ine_falsa_058.jpg\n"
     ]
    },
    {
     "name": "stderr",
     "output_type": "stream",
     "text": [
      "Generando dataset:  20%|█▉        | 59/300 [00:02<00:10, 22.04it/s]"
     ]
    },
    {
     "name": "stdout",
     "output_type": "stream",
     "text": [
      "INE falsa generada: C:\\Users\\Adrian\\Desktop\\INEs Dataset\\sets\\train\\ine_falsa_059.jpg\n",
      "INE falsa generada: C:\\Users\\Adrian\\Desktop\\INEs Dataset\\sets\\train\\ine_falsa_060.jpg\n"
     ]
    },
    {
     "name": "stderr",
     "output_type": "stream",
     "text": [
      "Generando dataset:  21%|██        | 62/300 [00:02<00:10, 22.04it/s]"
     ]
    },
    {
     "name": "stdout",
     "output_type": "stream",
     "text": [
      "INE falsa generada: C:\\Users\\Adrian\\Desktop\\INEs Dataset\\sets\\train\\ine_falsa_061.jpg\n",
      "INE falsa generada: C:\\Users\\Adrian\\Desktop\\INEs Dataset\\sets\\train\\ine_falsa_062.jpg\n",
      "INE falsa generada: C:\\Users\\Adrian\\Desktop\\INEs Dataset\\sets\\train\\ine_falsa_063.jpg\n"
     ]
    },
    {
     "name": "stderr",
     "output_type": "stream",
     "text": [
      "Generando dataset:  22%|██▏       | 65/300 [00:03<00:10, 22.36it/s]"
     ]
    },
    {
     "name": "stdout",
     "output_type": "stream",
     "text": [
      "INE falsa generada: C:\\Users\\Adrian\\Desktop\\INEs Dataset\\sets\\train\\ine_falsa_064.jpg\n",
      "INE falsa generada: C:\\Users\\Adrian\\Desktop\\INEs Dataset\\sets\\train\\ine_falsa_065.jpg\n",
      "INE falsa generada: C:\\Users\\Adrian\\Desktop\\INEs Dataset\\sets\\train\\ine_falsa_066.jpg\n",
      "INE falsa generada: C:\\Users\\Adrian\\Desktop\\INEs Dataset\\sets\\train\\ine_falsa_067.jpg\n",
      "INE falsa generada: C:\\Users\\Adrian\\Desktop\\INEs Dataset\\sets\\train\\ine_falsa_068.jpg\n"
     ]
    },
    {
     "name": "stderr",
     "output_type": "stream",
     "text": [
      "Generando dataset:  23%|██▎       | 68/300 [00:03<00:10, 21.87it/s]"
     ]
    },
    {
     "name": "stdout",
     "output_type": "stream",
     "text": [
      "INE falsa generada: C:\\Users\\Adrian\\Desktop\\INEs Dataset\\sets\\train\\ine_falsa_069.jpg\n",
      "INE falsa generada: C:\\Users\\Adrian\\Desktop\\INEs Dataset\\sets\\train\\ine_falsa_070.jpg\n"
     ]
    },
    {
     "name": "stderr",
     "output_type": "stream",
     "text": [
      "Generando dataset:  24%|██▎       | 71/300 [00:03<00:10, 21.22it/s]"
     ]
    },
    {
     "name": "stdout",
     "output_type": "stream",
     "text": [
      "INE falsa generada: C:\\Users\\Adrian\\Desktop\\INEs Dataset\\sets\\train\\ine_falsa_071.jpg\n",
      "INE falsa generada: C:\\Users\\Adrian\\Desktop\\INEs Dataset\\sets\\train\\ine_falsa_072.jpg\n",
      "INE falsa generada: C:\\Users\\Adrian\\Desktop\\INEs Dataset\\sets\\train\\ine_falsa_073.jpg\n"
     ]
    },
    {
     "name": "stderr",
     "output_type": "stream",
     "text": [
      "Generando dataset:  25%|██▍       | 74/300 [00:03<00:10, 21.65it/s]"
     ]
    },
    {
     "name": "stdout",
     "output_type": "stream",
     "text": [
      "INE falsa generada: C:\\Users\\Adrian\\Desktop\\INEs Dataset\\sets\\train\\ine_falsa_074.jpg\n",
      "INE falsa generada: C:\\Users\\Adrian\\Desktop\\INEs Dataset\\sets\\train\\ine_falsa_075.jpg\n"
     ]
    },
    {
     "name": "stderr",
     "output_type": "stream",
     "text": [
      "Generando dataset:  26%|██▌       | 77/300 [00:03<00:10, 21.95it/s]"
     ]
    },
    {
     "name": "stdout",
     "output_type": "stream",
     "text": [
      "INE falsa generada: C:\\Users\\Adrian\\Desktop\\INEs Dataset\\sets\\train\\ine_falsa_076.jpg\n",
      "INE falsa generada: C:\\Users\\Adrian\\Desktop\\INEs Dataset\\sets\\train\\ine_falsa_077.jpg\n",
      "INE falsa generada: C:\\Users\\Adrian\\Desktop\\INEs Dataset\\sets\\train\\ine_falsa_078.jpg\n",
      "INE falsa generada: C:\\Users\\Adrian\\Desktop\\INEs Dataset\\sets\\train\\ine_falsa_079.jpg\n"
     ]
    },
    {
     "name": "stderr",
     "output_type": "stream",
     "text": [
      "Generando dataset:  27%|██▋       | 80/300 [00:03<00:10, 20.16it/s]"
     ]
    },
    {
     "name": "stdout",
     "output_type": "stream",
     "text": [
      "INE falsa generada: C:\\Users\\Adrian\\Desktop\\INEs Dataset\\sets\\train\\ine_falsa_080.jpg\n",
      "INE falsa generada: C:\\Users\\Adrian\\Desktop\\INEs Dataset\\sets\\train\\ine_falsa_081.jpg\n",
      "INE falsa generada: C:\\Users\\Adrian\\Desktop\\INEs Dataset\\sets\\train\\ine_falsa_082.jpg\n"
     ]
    },
    {
     "name": "stderr",
     "output_type": "stream",
     "text": [
      "Generando dataset:  28%|██▊       | 83/300 [00:03<00:10, 20.52it/s]"
     ]
    },
    {
     "name": "stdout",
     "output_type": "stream",
     "text": [
      "INE falsa generada: C:\\Users\\Adrian\\Desktop\\INEs Dataset\\sets\\train\\ine_falsa_083.jpg\n",
      "INE falsa generada: C:\\Users\\Adrian\\Desktop\\INEs Dataset\\sets\\train\\ine_falsa_084.jpg\n"
     ]
    },
    {
     "name": "stderr",
     "output_type": "stream",
     "text": [
      "Generando dataset:  29%|██▊       | 86/300 [00:04<00:10, 21.33it/s]"
     ]
    },
    {
     "name": "stdout",
     "output_type": "stream",
     "text": [
      "INE falsa generada: C:\\Users\\Adrian\\Desktop\\INEs Dataset\\sets\\train\\ine_falsa_085.jpg\n",
      "INE falsa generada: C:\\Users\\Adrian\\Desktop\\INEs Dataset\\sets\\train\\ine_falsa_086.jpg\n",
      "INE falsa generada: C:\\Users\\Adrian\\Desktop\\INEs Dataset\\sets\\train\\ine_falsa_087.jpg\n"
     ]
    },
    {
     "name": "stderr",
     "output_type": "stream",
     "text": [
      "Generando dataset:  30%|██▉       | 89/300 [00:04<00:09, 21.82it/s]"
     ]
    },
    {
     "name": "stdout",
     "output_type": "stream",
     "text": [
      "INE falsa generada: C:\\Users\\Adrian\\Desktop\\INEs Dataset\\sets\\train\\ine_falsa_088.jpg\n",
      "INE falsa generada: C:\\Users\\Adrian\\Desktop\\INEs Dataset\\sets\\train\\ine_falsa_089.jpg\n",
      "INE falsa generada: C:\\Users\\Adrian\\Desktop\\INEs Dataset\\sets\\train\\ine_falsa_090.jpg\n",
      "INE falsa generada: C:\\Users\\Adrian\\Desktop\\INEs Dataset\\sets\\train\\ine_falsa_091.jpg\n",
      "INE falsa generada: C:\\Users\\Adrian\\Desktop\\INEs Dataset\\sets\\train\\ine_falsa_092.jpg\n"
     ]
    },
    {
     "name": "stderr",
     "output_type": "stream",
     "text": [
      "Generando dataset:  31%|███       | 92/300 [00:04<00:09, 21.19it/s]"
     ]
    },
    {
     "name": "stdout",
     "output_type": "stream",
     "text": [
      "INE falsa generada: C:\\Users\\Adrian\\Desktop\\INEs Dataset\\sets\\train\\ine_falsa_093.jpg\n",
      "INE falsa generada: C:\\Users\\Adrian\\Desktop\\INEs Dataset\\sets\\train\\ine_falsa_094.jpg\n"
     ]
    },
    {
     "name": "stderr",
     "output_type": "stream",
     "text": [
      "Generando dataset:  32%|███▏      | 95/300 [00:04<00:10, 20.47it/s]"
     ]
    },
    {
     "name": "stdout",
     "output_type": "stream",
     "text": [
      "INE falsa generada: C:\\Users\\Adrian\\Desktop\\INEs Dataset\\sets\\train\\ine_falsa_095.jpg\n",
      "INE falsa generada: C:\\Users\\Adrian\\Desktop\\INEs Dataset\\sets\\train\\ine_falsa_096.jpg\n",
      "INE falsa generada: C:\\Users\\Adrian\\Desktop\\INEs Dataset\\sets\\train\\ine_falsa_097.jpg\n"
     ]
    },
    {
     "name": "stderr",
     "output_type": "stream",
     "text": [
      "Generando dataset:  33%|███▎      | 98/300 [00:04<00:09, 20.96it/s]"
     ]
    },
    {
     "name": "stdout",
     "output_type": "stream",
     "text": [
      "INE falsa generada: C:\\Users\\Adrian\\Desktop\\INEs Dataset\\sets\\train\\ine_falsa_098.jpg\n",
      "INE falsa generada: C:\\Users\\Adrian\\Desktop\\INEs Dataset\\sets\\train\\ine_falsa_099.jpg\n"
     ]
    },
    {
     "name": "stderr",
     "output_type": "stream",
     "text": [
      "Generando dataset:  34%|███▎      | 101/300 [00:04<00:09, 21.18it/s]"
     ]
    },
    {
     "name": "stdout",
     "output_type": "stream",
     "text": [
      "INE falsa generada: C:\\Users\\Adrian\\Desktop\\INEs Dataset\\sets\\train\\ine_falsa_100.jpg\n",
      "INE falsa generada: C:\\Users\\Adrian\\Desktop\\INEs Dataset\\sets\\train\\ine_falsa_101.jpg\n",
      "INE falsa generada: C:\\Users\\Adrian\\Desktop\\INEs Dataset\\sets\\train\\ine_falsa_102.jpg\n",
      "INE falsa generada: C:\\Users\\Adrian\\Desktop\\INEs Dataset\\sets\\train\\ine_falsa_103.jpg\n",
      "INE falsa generada: C:\\Users\\Adrian\\Desktop\\INEs Dataset\\sets\\train\\ine_falsa_104.jpg\n"
     ]
    },
    {
     "name": "stderr",
     "output_type": "stream",
     "text": [
      "Generando dataset:  35%|███▍      | 104/300 [00:04<00:09, 20.51it/s]"
     ]
    },
    {
     "name": "stdout",
     "output_type": "stream",
     "text": [
      "INE falsa generada: C:\\Users\\Adrian\\Desktop\\INEs Dataset\\sets\\train\\ine_falsa_105.jpg\n",
      "INE falsa generada: C:\\Users\\Adrian\\Desktop\\INEs Dataset\\sets\\train\\ine_falsa_106.jpg\n",
      "INE falsa generada: C:\\Users\\Adrian\\Desktop\\INEs Dataset\\sets\\train\\ine_falsa_107.jpg\n"
     ]
    },
    {
     "name": "stderr",
     "output_type": "stream",
     "text": [
      "Generando dataset:  36%|███▌      | 107/300 [00:05<00:09, 20.81it/s]"
     ]
    },
    {
     "name": "stdout",
     "output_type": "stream",
     "text": [
      "INE falsa generada: C:\\Users\\Adrian\\Desktop\\INEs Dataset\\sets\\train\\ine_falsa_108.jpg\n",
      "INE falsa generada: C:\\Users\\Adrian\\Desktop\\INEs Dataset\\sets\\train\\ine_falsa_109.jpg\n"
     ]
    },
    {
     "name": "stderr",
     "output_type": "stream",
     "text": [
      "Generando dataset:  37%|███▋      | 110/300 [00:05<00:08, 21.49it/s]"
     ]
    },
    {
     "name": "stdout",
     "output_type": "stream",
     "text": [
      "INE falsa generada: C:\\Users\\Adrian\\Desktop\\INEs Dataset\\sets\\train\\ine_falsa_110.jpg\n",
      "INE falsa generada: C:\\Users\\Adrian\\Desktop\\INEs Dataset\\sets\\train\\ine_falsa_111.jpg\n",
      "INE falsa generada: C:\\Users\\Adrian\\Desktop\\INEs Dataset\\sets\\train\\ine_falsa_112.jpg\n"
     ]
    },
    {
     "name": "stderr",
     "output_type": "stream",
     "text": [
      "Generando dataset:  38%|███▊      | 113/300 [00:05<00:08, 21.47it/s]"
     ]
    },
    {
     "name": "stdout",
     "output_type": "stream",
     "text": [
      "INE falsa generada: C:\\Users\\Adrian\\Desktop\\INEs Dataset\\sets\\train\\ine_falsa_113.jpg\n",
      "INE falsa generada: C:\\Users\\Adrian\\Desktop\\INEs Dataset\\sets\\train\\ine_falsa_114.jpg\n"
     ]
    },
    {
     "name": "stderr",
     "output_type": "stream",
     "text": [
      "Generando dataset:  39%|███▊      | 116/300 [00:05<00:08, 20.87it/s]"
     ]
    },
    {
     "name": "stdout",
     "output_type": "stream",
     "text": [
      "INE falsa generada: C:\\Users\\Adrian\\Desktop\\INEs Dataset\\sets\\train\\ine_falsa_115.jpg\n",
      "INE falsa generada: C:\\Users\\Adrian\\Desktop\\INEs Dataset\\sets\\train\\ine_falsa_116.jpg\n",
      "INE falsa generada: C:\\Users\\Adrian\\Desktop\\INEs Dataset\\sets\\train\\ine_falsa_117.jpg\n",
      "INE falsa generada: C:\\Users\\Adrian\\Desktop\\INEs Dataset\\sets\\train\\ine_falsa_118.jpg\n",
      "INE falsa generada: C:\\Users\\Adrian\\Desktop\\INEs Dataset\\sets\\train\\ine_falsa_119.jpg\n"
     ]
    },
    {
     "name": "stderr",
     "output_type": "stream",
     "text": [
      "Generando dataset:  40%|███▉      | 119/300 [00:05<00:08, 21.07it/s]"
     ]
    },
    {
     "name": "stdout",
     "output_type": "stream",
     "text": [
      "INE falsa generada: C:\\Users\\Adrian\\Desktop\\INEs Dataset\\sets\\train\\ine_falsa_120.jpg\n",
      "INE falsa generada: C:\\Users\\Adrian\\Desktop\\INEs Dataset\\sets\\train\\ine_falsa_121.jpg\n",
      "INE falsa generada: C:\\Users\\Adrian\\Desktop\\INEs Dataset\\sets\\train\\ine_falsa_122.jpg\n"
     ]
    },
    {
     "name": "stderr",
     "output_type": "stream",
     "text": [
      "Generando dataset:  41%|████      | 122/300 [00:05<00:08, 21.96it/s]"
     ]
    },
    {
     "name": "stdout",
     "output_type": "stream",
     "text": [
      "INE falsa generada: C:\\Users\\Adrian\\Desktop\\INEs Dataset\\sets\\train\\ine_falsa_123.jpg\n",
      "INE falsa generada: C:\\Users\\Adrian\\Desktop\\INEs Dataset\\sets\\train\\ine_falsa_124.jpg\n"
     ]
    },
    {
     "name": "stderr",
     "output_type": "stream",
     "text": [
      "Generando dataset:  42%|████▏     | 125/300 [00:05<00:08, 21.06it/s]"
     ]
    },
    {
     "name": "stdout",
     "output_type": "stream",
     "text": [
      "INE falsa generada: C:\\Users\\Adrian\\Desktop\\INEs Dataset\\sets\\train\\ine_falsa_125.jpg\n",
      "INE falsa generada: C:\\Users\\Adrian\\Desktop\\INEs Dataset\\sets\\train\\ine_falsa_126.jpg\n"
     ]
    },
    {
     "name": "stderr",
     "output_type": "stream",
     "text": [
      "Generando dataset:  43%|████▎     | 128/300 [00:06<00:08, 20.64it/s]"
     ]
    },
    {
     "name": "stdout",
     "output_type": "stream",
     "text": [
      "INE falsa generada: C:\\Users\\Adrian\\Desktop\\INEs Dataset\\sets\\train\\ine_falsa_127.jpg\n",
      "INE falsa generada: C:\\Users\\Adrian\\Desktop\\INEs Dataset\\sets\\train\\ine_falsa_128.jpg\n",
      "INE falsa generada: C:\\Users\\Adrian\\Desktop\\INEs Dataset\\sets\\train\\ine_falsa_129.jpg\n",
      "INE falsa generada: C:\\Users\\Adrian\\Desktop\\INEs Dataset\\sets\\train\\ine_falsa_130.jpg\n",
      "INE falsa generada: C:\\Users\\Adrian\\Desktop\\INEs Dataset\\sets\\train\\ine_falsa_131.jpg\n"
     ]
    },
    {
     "name": "stderr",
     "output_type": "stream",
     "text": [
      "Generando dataset:  44%|████▎     | 131/300 [00:06<00:07, 21.40it/s]"
     ]
    },
    {
     "name": "stdout",
     "output_type": "stream",
     "text": [
      "INE falsa generada: C:\\Users\\Adrian\\Desktop\\INEs Dataset\\sets\\train\\ine_falsa_132.jpg\n",
      "INE falsa generada: C:\\Users\\Adrian\\Desktop\\INEs Dataset\\sets\\train\\ine_falsa_133.jpg\n"
     ]
    },
    {
     "name": "stderr",
     "output_type": "stream",
     "text": [
      "Generando dataset:  45%|████▍     | 134/300 [00:06<00:07, 22.06it/s]"
     ]
    },
    {
     "name": "stdout",
     "output_type": "stream",
     "text": [
      "INE falsa generada: C:\\Users\\Adrian\\Desktop\\INEs Dataset\\sets\\train\\ine_falsa_134.jpg\n",
      "INE falsa generada: C:\\Users\\Adrian\\Desktop\\INEs Dataset\\sets\\train\\ine_falsa_135.jpg\n",
      "INE falsa generada: C:\\Users\\Adrian\\Desktop\\INEs Dataset\\sets\\train\\ine_falsa_136.jpg\n"
     ]
    },
    {
     "name": "stderr",
     "output_type": "stream",
     "text": [
      "Generando dataset:  46%|████▌     | 137/300 [00:06<00:07, 21.26it/s]"
     ]
    },
    {
     "name": "stdout",
     "output_type": "stream",
     "text": [
      "INE falsa generada: C:\\Users\\Adrian\\Desktop\\INEs Dataset\\sets\\train\\ine_falsa_137.jpg\n",
      "INE falsa generada: C:\\Users\\Adrian\\Desktop\\INEs Dataset\\sets\\train\\ine_falsa_138.jpg\n"
     ]
    },
    {
     "name": "stderr",
     "output_type": "stream",
     "text": [
      "Generando dataset:  47%|████▋     | 140/300 [00:06<00:07, 21.44it/s]"
     ]
    },
    {
     "name": "stdout",
     "output_type": "stream",
     "text": [
      "INE falsa generada: C:\\Users\\Adrian\\Desktop\\INEs Dataset\\sets\\train\\ine_falsa_139.jpg\n",
      "INE falsa generada: C:\\Users\\Adrian\\Desktop\\INEs Dataset\\sets\\train\\ine_falsa_140.jpg\n",
      "INE falsa generada: C:\\Users\\Adrian\\Desktop\\INEs Dataset\\sets\\train\\ine_falsa_141.jpg\n"
     ]
    },
    {
     "name": "stderr",
     "output_type": "stream",
     "text": [
      "Generando dataset:  48%|████▊     | 143/300 [00:06<00:07, 21.48it/s]"
     ]
    },
    {
     "name": "stdout",
     "output_type": "stream",
     "text": [
      "INE falsa generada: C:\\Users\\Adrian\\Desktop\\INEs Dataset\\sets\\train\\ine_falsa_142.jpg\n",
      "INE falsa generada: C:\\Users\\Adrian\\Desktop\\INEs Dataset\\sets\\train\\ine_falsa_143.jpg\n",
      "INE falsa generada: C:\\Users\\Adrian\\Desktop\\INEs Dataset\\sets\\train\\ine_falsa_144.jpg\n",
      "INE falsa generada: C:\\Users\\Adrian\\Desktop\\INEs Dataset\\sets\\train\\ine_falsa_145.jpg\n",
      "INE falsa generada: C:\\Users\\Adrian\\Desktop\\INEs Dataset\\sets\\train\\ine_falsa_146.jpg\n"
     ]
    },
    {
     "name": "stderr",
     "output_type": "stream",
     "text": [
      "Generando dataset:  49%|████▊     | 146/300 [00:06<00:07, 21.93it/s]"
     ]
    },
    {
     "name": "stdout",
     "output_type": "stream",
     "text": [
      "INE falsa generada: C:\\Users\\Adrian\\Desktop\\INEs Dataset\\sets\\train\\ine_falsa_147.jpg\n",
      "INE falsa generada: C:\\Users\\Adrian\\Desktop\\INEs Dataset\\sets\\train\\ine_falsa_148.jpg\n"
     ]
    },
    {
     "name": "stderr",
     "output_type": "stream",
     "text": [
      "Generando dataset:  50%|████▉     | 149/300 [00:07<00:07, 21.08it/s]"
     ]
    },
    {
     "name": "stdout",
     "output_type": "stream",
     "text": [
      "INE falsa generada: C:\\Users\\Adrian\\Desktop\\INEs Dataset\\sets\\train\\ine_falsa_149.jpg\n",
      "INE falsa generada: C:\\Users\\Adrian\\Desktop\\INEs Dataset\\sets\\train\\ine_falsa_150.jpg\n",
      "INE falsa generada: C:\\Users\\Adrian\\Desktop\\INEs Dataset\\sets\\train\\ine_falsa_151.jpg\n"
     ]
    },
    {
     "name": "stderr",
     "output_type": "stream",
     "text": [
      "Generando dataset:  51%|█████     | 152/300 [00:07<00:06, 21.50it/s]"
     ]
    },
    {
     "name": "stdout",
     "output_type": "stream",
     "text": [
      "INE falsa generada: C:\\Users\\Adrian\\Desktop\\INEs Dataset\\sets\\train\\ine_falsa_152.jpg\n",
      "INE falsa generada: C:\\Users\\Adrian\\Desktop\\INEs Dataset\\sets\\train\\ine_falsa_153.jpg\n"
     ]
    },
    {
     "name": "stderr",
     "output_type": "stream",
     "text": [
      "Generando dataset:  52%|█████▏    | 155/300 [00:07<00:06, 21.85it/s]"
     ]
    },
    {
     "name": "stdout",
     "output_type": "stream",
     "text": [
      "INE falsa generada: C:\\Users\\Adrian\\Desktop\\INEs Dataset\\sets\\train\\ine_falsa_154.jpg\n",
      "INE falsa generada: C:\\Users\\Adrian\\Desktop\\INEs Dataset\\sets\\train\\ine_falsa_155.jpg\n",
      "INE falsa generada: C:\\Users\\Adrian\\Desktop\\INEs Dataset\\sets\\train\\ine_falsa_156.jpg\n",
      "INE falsa generada: C:\\Users\\Adrian\\Desktop\\INEs Dataset\\sets\\train\\ine_falsa_157.jpg\n",
      "INE falsa generada: C:\\Users\\Adrian\\Desktop\\INEs Dataset\\sets\\train\\ine_falsa_158.jpg\n"
     ]
    },
    {
     "name": "stderr",
     "output_type": "stream",
     "text": [
      "Generando dataset:  53%|█████▎    | 158/300 [00:07<00:06, 21.95it/s]"
     ]
    },
    {
     "name": "stdout",
     "output_type": "stream",
     "text": [
      "INE falsa generada: C:\\Users\\Adrian\\Desktop\\INEs Dataset\\sets\\train\\ine_falsa_159.jpg\n",
      "INE falsa generada: C:\\Users\\Adrian\\Desktop\\INEs Dataset\\sets\\train\\ine_falsa_160.jpg\n",
      "INE falsa generada: C:\\Users\\Adrian\\Desktop\\INEs Dataset\\sets\\train\\ine_falsa_161.jpg\n"
     ]
    },
    {
     "name": "stderr",
     "output_type": "stream",
     "text": [
      "Generando dataset:  54%|█████▎    | 161/300 [00:07<00:06, 21.50it/s]"
     ]
    },
    {
     "name": "stdout",
     "output_type": "stream",
     "text": [
      "INE falsa generada: C:\\Users\\Adrian\\Desktop\\INEs Dataset\\sets\\train\\ine_falsa_162.jpg\n",
      "INE falsa generada: C:\\Users\\Adrian\\Desktop\\INEs Dataset\\sets\\train\\ine_falsa_163.jpg\n"
     ]
    },
    {
     "name": "stderr",
     "output_type": "stream",
     "text": [
      "Generando dataset:  55%|█████▍    | 164/300 [00:07<00:06, 21.85it/s]"
     ]
    },
    {
     "name": "stdout",
     "output_type": "stream",
     "text": [
      "INE falsa generada: C:\\Users\\Adrian\\Desktop\\INEs Dataset\\sets\\train\\ine_falsa_164.jpg\n",
      "INE falsa generada: C:\\Users\\Adrian\\Desktop\\INEs Dataset\\sets\\train\\ine_falsa_165.jpg\n",
      "INE falsa generada: C:\\Users\\Adrian\\Desktop\\INEs Dataset\\sets\\train\\ine_falsa_166.jpg\n"
     ]
    },
    {
     "name": "stderr",
     "output_type": "stream",
     "text": [
      "Generando dataset:  56%|█████▌    | 167/300 [00:07<00:06, 22.15it/s]"
     ]
    },
    {
     "name": "stdout",
     "output_type": "stream",
     "text": [
      "INE falsa generada: C:\\Users\\Adrian\\Desktop\\INEs Dataset\\sets\\train\\ine_falsa_167.jpg\n",
      "INE falsa generada: C:\\Users\\Adrian\\Desktop\\INEs Dataset\\sets\\train\\ine_falsa_168.jpg\n"
     ]
    },
    {
     "name": "stderr",
     "output_type": "stream",
     "text": [
      "Generando dataset:  57%|█████▋    | 170/300 [00:07<00:06, 21.54it/s]"
     ]
    },
    {
     "name": "stdout",
     "output_type": "stream",
     "text": [
      "INE falsa generada: C:\\Users\\Adrian\\Desktop\\INEs Dataset\\sets\\train\\ine_falsa_169.jpg\n",
      "INE falsa generada: C:\\Users\\Adrian\\Desktop\\INEs Dataset\\sets\\train\\ine_falsa_170.jpg\n",
      "INE falsa generada: C:\\Users\\Adrian\\Desktop\\INEs Dataset\\sets\\train\\ine_falsa_171.jpg\n",
      "INE falsa generada: C:\\Users\\Adrian\\Desktop\\INEs Dataset\\sets\\train\\ine_falsa_172.jpg\n",
      "INE falsa generada: C:\\Users\\Adrian\\Desktop\\INEs Dataset\\sets\\train\\ine_falsa_173.jpg\n"
     ]
    },
    {
     "name": "stderr",
     "output_type": "stream",
     "text": [
      "Generando dataset:  58%|█████▊    | 173/300 [00:08<00:05, 21.23it/s]"
     ]
    },
    {
     "name": "stdout",
     "output_type": "stream",
     "text": [
      "INE falsa generada: C:\\Users\\Adrian\\Desktop\\INEs Dataset\\sets\\train\\ine_falsa_174.jpg\n",
      "INE falsa generada: C:\\Users\\Adrian\\Desktop\\INEs Dataset\\sets\\train\\ine_falsa_175.jpg\n",
      "INE falsa generada: C:\\Users\\Adrian\\Desktop\\INEs Dataset\\sets\\train\\ine_falsa_176.jpg\n"
     ]
    },
    {
     "name": "stderr",
     "output_type": "stream",
     "text": [
      "Generando dataset:  59%|█████▊    | 176/300 [00:08<00:05, 21.70it/s]"
     ]
    },
    {
     "name": "stdout",
     "output_type": "stream",
     "text": [
      "INE falsa generada: C:\\Users\\Adrian\\Desktop\\INEs Dataset\\sets\\train\\ine_falsa_177.jpg\n",
      "INE falsa generada: C:\\Users\\Adrian\\Desktop\\INEs Dataset\\sets\\train\\ine_falsa_178.jpg\n"
     ]
    },
    {
     "name": "stderr",
     "output_type": "stream",
     "text": [
      "Generando dataset:  60%|█████▉    | 179/300 [00:08<00:05, 22.14it/s]"
     ]
    },
    {
     "name": "stdout",
     "output_type": "stream",
     "text": [
      "INE falsa generada: C:\\Users\\Adrian\\Desktop\\INEs Dataset\\sets\\train\\ine_falsa_179.jpg\n",
      "INE falsa generada: C:\\Users\\Adrian\\Desktop\\INEs Dataset\\sets\\train\\ine_falsa_180.jpg\n",
      "INE falsa generada: C:\\Users\\Adrian\\Desktop\\INEs Dataset\\sets\\train\\ine_falsa_181.jpg\n"
     ]
    },
    {
     "name": "stderr",
     "output_type": "stream",
     "text": [
      "Generando dataset:  61%|██████    | 182/300 [00:08<00:05, 22.06it/s]"
     ]
    },
    {
     "name": "stdout",
     "output_type": "stream",
     "text": [
      "INE falsa generada: C:\\Users\\Adrian\\Desktop\\INEs Dataset\\sets\\train\\ine_falsa_182.jpg\n",
      "INE falsa generada: C:\\Users\\Adrian\\Desktop\\INEs Dataset\\sets\\train\\ine_falsa_183.jpg\n"
     ]
    },
    {
     "name": "stderr",
     "output_type": "stream",
     "text": [
      "Generando dataset:  62%|██████▏   | 185/300 [00:08<00:05, 20.94it/s]"
     ]
    },
    {
     "name": "stdout",
     "output_type": "stream",
     "text": [
      "INE falsa generada: C:\\Users\\Adrian\\Desktop\\INEs Dataset\\sets\\train\\ine_falsa_184.jpg\n",
      "INE falsa generada: C:\\Users\\Adrian\\Desktop\\INEs Dataset\\sets\\train\\ine_falsa_185.jpg\n",
      "INE falsa generada: C:\\Users\\Adrian\\Desktop\\INEs Dataset\\sets\\train\\ine_falsa_186.jpg\n"
     ]
    },
    {
     "name": "stderr",
     "output_type": "stream",
     "text": [
      "Generando dataset:  63%|██████▎   | 188/300 [00:08<00:05, 21.58it/s]"
     ]
    },
    {
     "name": "stdout",
     "output_type": "stream",
     "text": [
      "INE falsa generada: C:\\Users\\Adrian\\Desktop\\INEs Dataset\\sets\\train\\ine_falsa_187.jpg\n",
      "INE falsa generada: C:\\Users\\Adrian\\Desktop\\INEs Dataset\\sets\\train\\ine_falsa_188.jpg\n",
      "INE falsa generada: C:\\Users\\Adrian\\Desktop\\INEs Dataset\\sets\\train\\ine_falsa_189.jpg\n",
      "INE falsa generada: C:\\Users\\Adrian\\Desktop\\INEs Dataset\\sets\\train\\ine_falsa_190.jpg\n",
      "INE falsa generada: C:\\Users\\Adrian\\Desktop\\INEs Dataset\\sets\\train\\ine_falsa_191.jpg\n"
     ]
    },
    {
     "name": "stderr",
     "output_type": "stream",
     "text": [
      "Generando dataset:  64%|██████▎   | 191/300 [00:08<00:05, 21.76it/s]"
     ]
    },
    {
     "name": "stdout",
     "output_type": "stream",
     "text": [
      "INE falsa generada: C:\\Users\\Adrian\\Desktop\\INEs Dataset\\sets\\train\\ine_falsa_192.jpg\n",
      "INE falsa generada: C:\\Users\\Adrian\\Desktop\\INEs Dataset\\sets\\train\\ine_falsa_193.jpg\n"
     ]
    },
    {
     "name": "stderr",
     "output_type": "stream",
     "text": [
      "Generando dataset:  65%|██████▍   | 194/300 [00:09<00:04, 21.56it/s]"
     ]
    },
    {
     "name": "stdout",
     "output_type": "stream",
     "text": [
      "INE falsa generada: C:\\Users\\Adrian\\Desktop\\INEs Dataset\\sets\\train\\ine_falsa_194.jpg\n",
      "INE falsa generada: C:\\Users\\Adrian\\Desktop\\INEs Dataset\\sets\\train\\ine_falsa_195.jpg\n",
      "INE falsa generada: C:\\Users\\Adrian\\Desktop\\INEs Dataset\\sets\\train\\ine_falsa_196.jpg\n",
      "INE falsa generada: C:\\Users\\Adrian\\Desktop\\INEs Dataset\\sets\\train\\ine_falsa_197.jpg\n"
     ]
    },
    {
     "name": "stderr",
     "output_type": "stream",
     "text": [
      "Generando dataset:  66%|██████▌   | 197/300 [00:09<00:05, 19.20it/s]"
     ]
    },
    {
     "name": "stdout",
     "output_type": "stream",
     "text": [
      "INE falsa generada: C:\\Users\\Adrian\\Desktop\\INEs Dataset\\sets\\train\\ine_falsa_198.jpg\n",
      "INE falsa generada: C:\\Users\\Adrian\\Desktop\\INEs Dataset\\sets\\train\\ine_falsa_199.jpg\n",
      "INE falsa generada: C:\\Users\\Adrian\\Desktop\\INEs Dataset\\sets\\train\\ine_falsa_200.jpg\n"
     ]
    },
    {
     "name": "stderr",
     "output_type": "stream",
     "text": [
      "Generando dataset:  67%|██████▋   | 200/300 [00:09<00:04, 20.21it/s]"
     ]
    },
    {
     "name": "stdout",
     "output_type": "stream",
     "text": [
      "INE falsa generada: C:\\Users\\Adrian\\Desktop\\INEs Dataset\\sets\\train\\ine_falsa_201.jpg\n",
      "INE falsa generada: C:\\Users\\Adrian\\Desktop\\INEs Dataset\\sets\\train\\ine_falsa_202.jpg\n"
     ]
    },
    {
     "name": "stderr",
     "output_type": "stream",
     "text": [
      "Generando dataset:  68%|██████▊   | 203/300 [00:09<00:04, 21.04it/s]"
     ]
    },
    {
     "name": "stdout",
     "output_type": "stream",
     "text": [
      "INE falsa generada: C:\\Users\\Adrian\\Desktop\\INEs Dataset\\sets\\train\\ine_falsa_203.jpg\n",
      "INE falsa generada: C:\\Users\\Adrian\\Desktop\\INEs Dataset\\sets\\train\\ine_falsa_204.jpg\n",
      "INE falsa generada: C:\\Users\\Adrian\\Desktop\\INEs Dataset\\sets\\train\\ine_falsa_205.jpg\n"
     ]
    },
    {
     "name": "stderr",
     "output_type": "stream",
     "text": [
      "Generando dataset:  69%|██████▊   | 206/300 [00:09<00:04, 20.84it/s]"
     ]
    },
    {
     "name": "stdout",
     "output_type": "stream",
     "text": [
      "INE falsa generada: C:\\Users\\Adrian\\Desktop\\INEs Dataset\\sets\\train\\ine_falsa_206.jpg\n",
      "INE falsa generada: C:\\Users\\Adrian\\Desktop\\INEs Dataset\\sets\\train\\ine_falsa_207.jpg\n"
     ]
    },
    {
     "name": "stderr",
     "output_type": "stream",
     "text": [
      "Generando dataset:  70%|██████▉   | 209/300 [00:09<00:04, 21.27it/s]"
     ]
    },
    {
     "name": "stdout",
     "output_type": "stream",
     "text": [
      "INE falsa generada: C:\\Users\\Adrian\\Desktop\\INEs Dataset\\sets\\train\\ine_falsa_208.jpg\n",
      "INE falsa generada: C:\\Users\\Adrian\\Desktop\\INEs Dataset\\sets\\train\\ine_falsa_209.jpg\n",
      "INE falsa generada: C:\\Users\\Adrian\\Desktop\\INEs Dataset\\sets\\train\\ine_falsa_210.jpg\n",
      "INE falsa generada: C:\\Users\\Adrian\\Desktop\\INEs Dataset\\sets\\validation\\ine_falsa_211.jpg\n",
      "INE falsa generada: C:\\Users\\Adrian\\Desktop\\INEs Dataset\\sets\\validation\\ine_falsa_212.jpg\n"
     ]
    },
    {
     "name": "stderr",
     "output_type": "stream",
     "text": [
      "Generando dataset:  71%|███████   | 212/300 [00:09<00:04, 21.68it/s]"
     ]
    },
    {
     "name": "stdout",
     "output_type": "stream",
     "text": [
      "INE falsa generada: C:\\Users\\Adrian\\Desktop\\INEs Dataset\\sets\\validation\\ine_falsa_213.jpg\n",
      "INE falsa generada: C:\\Users\\Adrian\\Desktop\\INEs Dataset\\sets\\validation\\ine_falsa_214.jpg\n",
      "INE falsa generada: C:\\Users\\Adrian\\Desktop\\INEs Dataset\\sets\\validation\\ine_falsa_215.jpg\n"
     ]
    },
    {
     "name": "stderr",
     "output_type": "stream",
     "text": [
      "Generando dataset:  72%|███████▏  | 215/300 [00:10<00:03, 22.24it/s]"
     ]
    },
    {
     "name": "stdout",
     "output_type": "stream",
     "text": [
      "INE falsa generada: C:\\Users\\Adrian\\Desktop\\INEs Dataset\\sets\\validation\\ine_falsa_216.jpg\n"
     ]
    },
    {
     "name": "stderr",
     "output_type": "stream",
     "text": [
      "Generando dataset:  73%|███████▎  | 218/300 [00:10<00:03, 21.42it/s]"
     ]
    },
    {
     "name": "stdout",
     "output_type": "stream",
     "text": [
      "INE falsa generada: C:\\Users\\Adrian\\Desktop\\INEs Dataset\\sets\\validation\\ine_falsa_217.jpg\n",
      "INE falsa generada: C:\\Users\\Adrian\\Desktop\\INEs Dataset\\sets\\validation\\ine_falsa_218.jpg\n",
      "INE falsa generada: C:\\Users\\Adrian\\Desktop\\INEs Dataset\\sets\\validation\\ine_falsa_219.jpg\n",
      "INE falsa generada: C:\\Users\\Adrian\\Desktop\\INEs Dataset\\sets\\validation\\ine_falsa_220.jpg\n"
     ]
    },
    {
     "name": "stderr",
     "output_type": "stream",
     "text": [
      "Generando dataset:  74%|███████▎  | 221/300 [00:10<00:03, 20.41it/s]"
     ]
    },
    {
     "name": "stdout",
     "output_type": "stream",
     "text": [
      "INE falsa generada: C:\\Users\\Adrian\\Desktop\\INEs Dataset\\sets\\validation\\ine_falsa_221.jpg\n",
      "INE falsa generada: C:\\Users\\Adrian\\Desktop\\INEs Dataset\\sets\\validation\\ine_falsa_222.jpg\n",
      "INE falsa generada: C:\\Users\\Adrian\\Desktop\\INEs Dataset\\sets\\validation\\ine_falsa_223.jpg\n",
      "INE falsa generada: C:\\Users\\Adrian\\Desktop\\INEs Dataset\\sets\\validation\\ine_falsa_224.jpg\n"
     ]
    },
    {
     "name": "stderr",
     "output_type": "stream",
     "text": [
      "Generando dataset:  75%|███████▍  | 224/300 [00:10<00:03, 21.23it/s]"
     ]
    },
    {
     "name": "stdout",
     "output_type": "stream",
     "text": [
      "INE falsa generada: C:\\Users\\Adrian\\Desktop\\INEs Dataset\\sets\\validation\\ine_falsa_225.jpg"
     ]
    },
    {
     "name": "stderr",
     "output_type": "stream",
     "text": [
      "Generando dataset:  76%|███████▌  | 227/300 [00:10<00:03, 21.69it/s]"
     ]
    },
    {
     "name": "stdout",
     "output_type": "stream",
     "text": [
      "\n",
      "INE falsa generada: C:\\Users\\Adrian\\Desktop\\INEs Dataset\\sets\\validation\\ine_falsa_226.jpg\n",
      "INE falsa generada: C:\\Users\\Adrian\\Desktop\\INEs Dataset\\sets\\validation\\ine_falsa_227.jpg\n",
      "INE falsa generada: C:\\Users\\Adrian\\Desktop\\INEs Dataset\\sets\\validation\\ine_falsa_228.jpg\n",
      "INE falsa generada: C:\\Users\\Adrian\\Desktop\\INEs Dataset\\sets\\validation\\ine_falsa_229.jpg\n"
     ]
    },
    {
     "name": "stderr",
     "output_type": "stream",
     "text": [
      "Generando dataset:  78%|███████▊  | 233/300 [00:10<00:03, 21.86it/s]"
     ]
    },
    {
     "name": "stdout",
     "output_type": "stream",
     "text": [
      "INE falsa generada: C:\\Users\\Adrian\\Desktop\\INEs Dataset\\sets\\validation\\ine_falsa_230.jpg\n",
      "INE falsa generada: C:\\Users\\Adrian\\Desktop\\INEs Dataset\\sets\\validation\\ine_falsa_231.jpg\n",
      "INE falsa generada: C:\\Users\\Adrian\\Desktop\\INEs Dataset\\sets\\validation\\ine_falsa_232.jpg\n",
      "INE falsa generada: C:\\Users\\Adrian\\Desktop\\INEs Dataset\\sets\\validation\\ine_falsa_233.jpg\n",
      "INE falsa generada: C:\\Users\\Adrian\\Desktop\\INEs Dataset\\sets\\validation\\ine_falsa_234.jpg\n"
     ]
    },
    {
     "name": "stderr",
     "output_type": "stream",
     "text": [
      "Generando dataset:  79%|███████▊  | 236/300 [00:11<00:02, 22.22it/s]"
     ]
    },
    {
     "name": "stdout",
     "output_type": "stream",
     "text": [
      "INE falsa generada: C:\\Users\\Adrian\\Desktop\\INEs Dataset\\sets\\validation\\ine_falsa_235.jpg\n",
      "INE falsa generada: C:\\Users\\Adrian\\Desktop\\INEs Dataset\\sets\\validation\\ine_falsa_236.jpg\n",
      "INE falsa generada: C:\\Users\\Adrian\\Desktop\\INEs Dataset\\sets\\validation\\ine_falsa_237.jpg\n",
      "INE falsa generada: C:\\Users\\Adrian\\Desktop\\INEs Dataset\\sets\\validation\\ine_falsa_238.jpg\n",
      "INE falsa generada: C:\\Users\\Adrian\\Desktop\\INEs Dataset\\sets\\validation\\ine_falsa_239.jpg\n"
     ]
    },
    {
     "name": "stderr",
     "output_type": "stream",
     "text": [
      "Generando dataset:  81%|████████  | 242/300 [00:11<00:02, 21.05it/s]"
     ]
    },
    {
     "name": "stdout",
     "output_type": "stream",
     "text": [
      "INE falsa generada: C:\\Users\\Adrian\\Desktop\\INEs Dataset\\sets\\validation\\ine_falsa_240.jpg\n",
      "INE falsa generada: C:\\Users\\Adrian\\Desktop\\INEs Dataset\\sets\\validation\\ine_falsa_241.jpg\n",
      "INE falsa generada: C:\\Users\\Adrian\\Desktop\\INEs Dataset\\sets\\validation\\ine_falsa_242.jpg\n",
      "INE falsa generada: C:\\Users\\Adrian\\Desktop\\INEs Dataset\\sets\\validation\\ine_falsa_243.jpg\n",
      "INE falsa generada: C:\\Users\\Adrian\\Desktop\\INEs Dataset\\sets\\validation\\ine_falsa_244.jpg\n"
     ]
    },
    {
     "name": "stderr",
     "output_type": "stream",
     "text": [
      "Generando dataset:  83%|████████▎ | 248/300 [00:11<00:02, 21.91it/s]"
     ]
    },
    {
     "name": "stdout",
     "output_type": "stream",
     "text": [
      "INE falsa generada: C:\\Users\\Adrian\\Desktop\\INEs Dataset\\sets\\validation\\ine_falsa_245.jpg\n",
      "INE falsa generada: C:\\Users\\Adrian\\Desktop\\INEs Dataset\\sets\\validation\\ine_falsa_246.jpg\n",
      "INE falsa generada: C:\\Users\\Adrian\\Desktop\\INEs Dataset\\sets\\validation\\ine_falsa_247.jpg\n",
      "INE falsa generada: C:\\Users\\Adrian\\Desktop\\INEs Dataset\\sets\\validation\\ine_falsa_248.jpg\n",
      "INE falsa generada: C:\\Users\\Adrian\\Desktop\\INEs Dataset\\sets\\validation\\ine_falsa_249.jpg\n",
      "INE falsa generada: C:\\Users\\Adrian\\Desktop\\INEs Dataset\\sets\\validation\\ine_falsa_250.jpg\n"
     ]
    },
    {
     "name": "stderr",
     "output_type": "stream",
     "text": [
      "Generando dataset:  85%|████████▍ | 254/300 [00:11<00:02, 20.24it/s]"
     ]
    },
    {
     "name": "stdout",
     "output_type": "stream",
     "text": [
      "INE falsa generada: C:\\Users\\Adrian\\Desktop\\INEs Dataset\\sets\\validation\\ine_falsa_251.jpg\n",
      "INE falsa generada: C:\\Users\\Adrian\\Desktop\\INEs Dataset\\sets\\validation\\ine_falsa_252.jpg\n",
      "INE falsa generada: C:\\Users\\Adrian\\Desktop\\INEs Dataset\\sets\\validation\\ine_falsa_253.jpg\n",
      "INE falsa generada: C:\\Users\\Adrian\\Desktop\\INEs Dataset\\sets\\validation\\ine_falsa_254.jpg\n",
      "INE falsa generada: C:\\Users\\Adrian\\Desktop\\INEs Dataset\\sets\\validation\\ine_falsa_255.jpg\n"
     ]
    },
    {
     "name": "stderr",
     "output_type": "stream",
     "text": [
      "Generando dataset:  87%|████████▋ | 260/300 [00:12<00:01, 21.79it/s]"
     ]
    },
    {
     "name": "stdout",
     "output_type": "stream",
     "text": [
      "INE falsa generada: C:\\Users\\Adrian\\Desktop\\INEs Dataset\\sets\\validation\\ine_falsa_256.jpg\n",
      "INE falsa generada: C:\\Users\\Adrian\\Desktop\\INEs Dataset\\sets\\validation\\ine_falsa_257.jpg\n",
      "INE falsa generada: C:\\Users\\Adrian\\Desktop\\INEs Dataset\\sets\\validation\\ine_falsa_258.jpg\n",
      "INE falsa generada: C:\\Users\\Adrian\\Desktop\\INEs Dataset\\sets\\validation\\ine_falsa_259.jpg\n",
      "INE falsa generada: C:\\Users\\Adrian\\Desktop\\INEs Dataset\\sets\\validation\\ine_falsa_260.jpg\n"
     ]
    },
    {
     "name": "stderr",
     "output_type": "stream",
     "text": [
      "Generando dataset:  88%|████████▊ | 263/300 [00:12<00:01, 22.14it/s]"
     ]
    },
    {
     "name": "stdout",
     "output_type": "stream",
     "text": [
      "INE falsa generada: C:\\Users\\Adrian\\Desktop\\INEs Dataset\\sets\\validation\\ine_falsa_261.jpg\n",
      "INE falsa generada: C:\\Users\\Adrian\\Desktop\\INEs Dataset\\sets\\validation\\ine_falsa_262.jpg\n",
      "INE falsa generada: C:\\Users\\Adrian\\Desktop\\INEs Dataset\\sets\\validation\\ine_falsa_263.jpg\n",
      "INE falsa generada: C:\\Users\\Adrian\\Desktop\\INEs Dataset\\sets\\validation\\ine_falsa_264.jpg\n",
      "INE falsa generada: C:\\Users\\Adrian\\Desktop\\INEs Dataset\\sets\\validation\\ine_falsa_265.jpg\n"
     ]
    },
    {
     "name": "stderr",
     "output_type": "stream",
     "text": [
      "Generando dataset:  90%|████████▉ | 269/300 [00:12<00:01, 21.42it/s]"
     ]
    },
    {
     "name": "stdout",
     "output_type": "stream",
     "text": [
      "INE falsa generada: C:\\Users\\Adrian\\Desktop\\INEs Dataset\\sets\\validation\\ine_falsa_266.jpg\n",
      "INE falsa generada: C:\\Users\\Adrian\\Desktop\\INEs Dataset\\sets\\validation\\ine_falsa_267.jpg\n",
      "INE falsa generada: C:\\Users\\Adrian\\Desktop\\INEs Dataset\\sets\\validation\\ine_falsa_268.jpg\n",
      "INE falsa generada: C:\\Users\\Adrian\\Desktop\\INEs Dataset\\sets\\validation\\ine_falsa_269.jpg\n",
      "INE falsa generada: C:\\Users\\Adrian\\Desktop\\INEs Dataset\\sets\\validation\\ine_falsa_270.jpg\n"
     ]
    },
    {
     "name": "stderr",
     "output_type": "stream",
     "text": [
      "Generando dataset:  92%|█████████▏| 275/300 [00:12<00:01, 22.64it/s]"
     ]
    },
    {
     "name": "stdout",
     "output_type": "stream",
     "text": [
      "INE falsa generada: C:\\Users\\Adrian\\Desktop\\INEs Dataset\\sets\\test\\ine_falsa_271.jpg\n",
      "INE falsa generada: C:\\Users\\Adrian\\Desktop\\INEs Dataset\\sets\\test\\ine_falsa_272.jpg\n",
      "INE falsa generada: C:\\Users\\Adrian\\Desktop\\INEs Dataset\\sets\\test\\ine_falsa_273.jpg\n",
      "INE falsa generada: C:\\Users\\Adrian\\Desktop\\INEs Dataset\\sets\\test\\ine_falsa_274.jpg\n",
      "INE falsa generada: C:\\Users\\Adrian\\Desktop\\INEs Dataset\\sets\\test\\ine_falsa_275.jpg\n"
     ]
    },
    {
     "name": "stderr",
     "output_type": "stream",
     "text": [
      "Generando dataset:  93%|█████████▎| 278/300 [00:13<00:01, 21.87it/s]"
     ]
    },
    {
     "name": "stdout",
     "output_type": "stream",
     "text": [
      "INE falsa generada: C:\\Users\\Adrian\\Desktop\\INEs Dataset\\sets\\test\\ine_falsa_276.jpg\n",
      "INE falsa generada: C:\\Users\\Adrian\\Desktop\\INEs Dataset\\sets\\test\\ine_falsa_277.jpg\n",
      "INE falsa generada: C:\\Users\\Adrian\\Desktop\\INEs Dataset\\sets\\test\\ine_falsa_278.jpg\n",
      "INE falsa generada: C:\\Users\\Adrian\\Desktop\\INEs Dataset\\sets\\test\\ine_falsa_279.jpg\n"
     ]
    },
    {
     "name": "stderr",
     "output_type": "stream",
     "text": [
      "Generando dataset:  95%|█████████▍| 284/300 [00:13<00:00, 22.42it/s]"
     ]
    },
    {
     "name": "stdout",
     "output_type": "stream",
     "text": [
      "INE falsa generada: C:\\Users\\Adrian\\Desktop\\INEs Dataset\\sets\\test\\ine_falsa_280.jpg\n",
      "INE falsa generada: C:\\Users\\Adrian\\Desktop\\INEs Dataset\\sets\\test\\ine_falsa_281.jpg\n",
      "INE falsa generada: C:\\Users\\Adrian\\Desktop\\INEs Dataset\\sets\\test\\ine_falsa_282.jpg\n",
      "INE falsa generada: C:\\Users\\Adrian\\Desktop\\INEs Dataset\\sets\\test\\ine_falsa_283.jpg\n",
      "INE falsa generada: C:\\Users\\Adrian\\Desktop\\INEs Dataset\\sets\\test\\ine_falsa_284.jpg\n"
     ]
    },
    {
     "name": "stderr",
     "output_type": "stream",
     "text": [
      "Generando dataset:  96%|█████████▌| 287/300 [00:13<00:00, 22.50it/s]"
     ]
    },
    {
     "name": "stdout",
     "output_type": "stream",
     "text": [
      "INE falsa generada: C:\\Users\\Adrian\\Desktop\\INEs Dataset\\sets\\test\\ine_falsa_285.jpg\n",
      "INE falsa generada: C:\\Users\\Adrian\\Desktop\\INEs Dataset\\sets\\test\\ine_falsa_286.jpg\n",
      "INE falsa generada: C:\\Users\\Adrian\\Desktop\\INEs Dataset\\sets\\test\\ine_falsa_287.jpg\n",
      "INE falsa generada: C:\\Users\\Adrian\\Desktop\\INEs Dataset\\sets\\test\\ine_falsa_288.jpg\n"
     ]
    },
    {
     "name": "stderr",
     "output_type": "stream",
     "text": [
      "Generando dataset:  97%|█████████▋| 290/300 [00:13<00:00, 20.44it/s]"
     ]
    },
    {
     "name": "stdout",
     "output_type": "stream",
     "text": [
      "INE falsa generada: C:\\Users\\Adrian\\Desktop\\INEs Dataset\\sets\\test\\ine_falsa_289.jpg\n",
      "INE falsa generada: C:\\Users\\Adrian\\Desktop\\INEs Dataset\\sets\\test\\ine_falsa_290.jpg\n",
      "INE falsa generada: C:\\Users\\Adrian\\Desktop\\INEs Dataset\\sets\\test\\ine_falsa_291.jpg\n",
      "INE falsa generada: C:\\Users\\Adrian\\Desktop\\INEs Dataset\\sets\\test\\ine_falsa_292.jpg\n",
      "INE falsa generada: C:\\Users\\Adrian\\Desktop\\INEs Dataset\\sets\\test\\ine_falsa_293.jpg\n"
     ]
    },
    {
     "name": "stderr",
     "output_type": "stream",
     "text": [
      "Generando dataset:  99%|█████████▊| 296/300 [00:13<00:00, 21.63it/s]"
     ]
    },
    {
     "name": "stdout",
     "output_type": "stream",
     "text": [
      "INE falsa generada: C:\\Users\\Adrian\\Desktop\\INEs Dataset\\sets\\test\\ine_falsa_294.jpg\n",
      "INE falsa generada: C:\\Users\\Adrian\\Desktop\\INEs Dataset\\sets\\test\\ine_falsa_295.jpg\n",
      "INE falsa generada: C:\\Users\\Adrian\\Desktop\\INEs Dataset\\sets\\test\\ine_falsa_296.jpg\n",
      "INE falsa generada: C:\\Users\\Adrian\\Desktop\\INEs Dataset\\sets\\test\\ine_falsa_297.jpg\n",
      "INE falsa generada: C:\\Users\\Adrian\\Desktop\\INEs Dataset\\sets\\test\\ine_falsa_298.jpg\n"
     ]
    },
    {
     "name": "stderr",
     "output_type": "stream",
     "text": [
      "Generando dataset: 100%|██████████| 300/300 [00:14<00:00, 21.35it/s]"
     ]
    },
    {
     "name": "stdout",
     "output_type": "stream",
     "text": [
      "INE falsa generada: C:\\Users\\Adrian\\Desktop\\INEs Dataset\\sets\\test\\ine_falsa_299.jpg\n",
      "INE falsa generada: C:\\Users\\Adrian\\Desktop\\INEs Dataset\\sets\\test\\ine_falsa_300.jpg\n",
      "Archivo metadata.jsonl guardado en: C:\\Users\\Adrian\\Desktop\\INEs Dataset\\sets\\train\\metadata.jsonl\n",
      "Archivo metadata.jsonl guardado en: C:\\Users\\Adrian\\Desktop\\INEs Dataset\\sets\\validation\\metadata.jsonl\n",
      "Archivo metadata.jsonl guardado en: C:\\Users\\Adrian\\Desktop\\INEs Dataset\\sets\\test\\metadata.jsonl\n",
      "Archivo CSV generado exitosamente en: C:\\Users\\Adrian\\Desktop\\INEs Dataset\\datos_ines.csv\n",
      "\n",
      "Dataset generado con éxito:\n",
      "- 210 imágenes en conjunto de entrenamiento\n",
      "- 60 imágenes en conjunto de validación\n",
      "- 30 imágenes en conjunto de prueba\n",
      "- Total: 300 imágenes\n",
      "\n",
      "Archivo CSV guardado en: C:\\Users\\Adrian\\Desktop\\INEs Dataset\\datos_ines.csv\n",
      "Todos los archivos metadata.jsonl han sido generados en sus respectivas carpetas\n"
     ]
    },
    {
     "name": "stderr",
     "output_type": "stream",
     "text": [
      "\n"
     ]
    }
   ],
   "source": [
    "if __name__ == \"__main__\":\n",
    "    # Número de INEs a generar\n",
    "    num_ines = 300\n",
    "    \n",
    "    # Proporciones para cada conjunto (deben sumar 1.0)\n",
    "    prop_train = 0.7  # 70% para entrenamiento\n",
    "    prop_val = 0.2    # 20% para validación\n",
    "    prop_test = 0.1   # 10% para prueba\n",
    "    \n",
    "    # Generar el dataset\n",
    "    generar_dataset(num_ines, prop_train, prop_val, prop_test)"
   ]
  }
 ],
 "metadata": {
  "kernelspec": {
   "display_name": "Python 3",
   "language": "python",
   "name": "python3"
  },
  "language_info": {
   "codemirror_mode": {
    "name": "ipython",
    "version": 3
   },
   "file_extension": ".py",
   "mimetype": "text/x-python",
   "name": "python",
   "nbconvert_exporter": "python",
   "pygments_lexer": "ipython3",
   "version": "3.10.0"
  }
 },
 "nbformat": 4,
 "nbformat_minor": 5
}
